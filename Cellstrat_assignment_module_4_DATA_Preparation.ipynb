{
  "nbformat": 4,
  "nbformat_minor": 0,
  "metadata": {
    "colab": {
      "provenance": [],
      "authorship_tag": "ABX9TyOqPeTGwjhKBazp46efGbRn",
      "include_colab_link": true
    },
    "kernelspec": {
      "name": "python3",
      "display_name": "Python 3"
    },
    "language_info": {
      "name": "python"
    }
  },
  "cells": [
    {
      "cell_type": "markdown",
      "metadata": {
        "id": "view-in-github",
        "colab_type": "text"
      },
      "source": [
        "<a href=\"https://colab.research.google.com/github/Cobalt9000/Machine-Learning-Cellstrat-assignments/blob/main/Cellstrat_assignment_module_4_DATA_Preparation.ipynb\" target=\"_parent\"><img src=\"https://colab.research.google.com/assets/colab-badge.svg\" alt=\"Open In Colab\"/></a>"
      ]
    },
    {
      "cell_type": "markdown",
      "source": [
        "#**Module 4: Data Preparation**"
      ],
      "metadata": {
        "id": "ettz8Eba4N9R"
      }
    },
    {
      "cell_type": "markdown",
      "source": [
        "Q1) review the training dataset (excel file). Note that weight is missing for 5th row i.e Asian, Height 178cm. Also note that Height is missing for 8th row i.e white, weight 89kgs."
      ],
      "metadata": {
        "id": "FoWf8CvW4b6j"
      }
    },
    {
      "cell_type": "markdown",
      "source": [
        "1) what is the value computed by the imputer for these two missing columns"
      ],
      "metadata": {
        "id": "xw0JHn3b4hph"
      }
    },
    {
      "cell_type": "markdown",
      "source": [
        "![Dataset.PNG](data:image/png;base64,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)"
      ],
      "metadata": {
        "id": "w92RG14h4lWN"
      }
    },
    {
      "cell_type": "code",
      "source": [
        "import numpy as np\n",
        "import matplotlib.pyplot as plt\n",
        "import pandas as pd\n",
        "\n",
        "healthData = pd.read_csv ('Health.csv')\n",
        "print(healthData)"
      ],
      "metadata": {
        "colab": {
          "base_uri": "https://localhost:8080/"
        },
        "id": "A_hhRyBJ5niL",
        "outputId": "da0b3396-8eff-4db1-c31b-3e8490365833"
      },
      "execution_count": 1,
      "outputs": [
        {
          "output_type": "stream",
          "name": "stdout",
          "text": [
            "  Ethnicity  Height (CM)  Weight (Kg) Will survive till 70\n",
            "0     White        186.0         90.0                  Yes\n",
            "1   African        185.0         98.0                   No\n",
            "2     White        175.0         80.0                   No\n",
            "3     White        180.0         88.0                  Yes\n",
            "4     Asian        178.0          NaN                   No\n",
            "5     Asian        172.0         72.0                  Yes\n",
            "6   African        178.0         75.0                   No\n",
            "7     White          NaN         89.0                  Yes\n",
            "8   African        186.0         90.0                  Yes\n"
          ]
        }
      ]
    },
    {
      "cell_type": "code",
      "source": [
        "X = healthData.iloc [:,:-1].values\n",
        "y = healthData.iloc [:,3].values\n",
        "\n",
        "X"
      ],
      "metadata": {
        "colab": {
          "base_uri": "https://localhost:8080/"
        },
        "id": "NZldJhHT5vhY",
        "outputId": "a3604572-8389-4832-bfe9-143a042ddfee"
      },
      "execution_count": 3,
      "outputs": [
        {
          "output_type": "execute_result",
          "data": {
            "text/plain": [
              "array([['White', 186.0, 90.0],\n",
              "       ['African', 185.0, 98.0],\n",
              "       ['White', 175.0, 80.0],\n",
              "       ['White', 180.0, 88.0],\n",
              "       ['Asian', 178.0, nan],\n",
              "       ['Asian', 172.0, 72.0],\n",
              "       ['African', 178.0, 75.0],\n",
              "       ['White', nan, 89.0],\n",
              "       ['African', 186.0, 90.0]], dtype=object)"
            ]
          },
          "metadata": {},
          "execution_count": 3
        }
      ]
    },
    {
      "cell_type": "code",
      "source": [
        "y"
      ],
      "metadata": {
        "colab": {
          "base_uri": "https://localhost:8080/"
        },
        "id": "F_9wZc005y6p",
        "outputId": "fd1a6f77-f1f9-4916-f56e-f42f601d4248"
      },
      "execution_count": 4,
      "outputs": [
        {
          "output_type": "execute_result",
          "data": {
            "text/plain": [
              "array(['Yes', 'No', 'No', 'Yes', 'No', 'Yes', 'No', 'Yes', 'Yes'],\n",
              "      dtype=object)"
            ]
          },
          "metadata": {},
          "execution_count": 4
        }
      ]
    },
    {
      "cell_type": "code",
      "source": [
        "from sklearn.impute import SimpleImputer\n",
        "missingValueImputer = SimpleImputer(missing_values=np.nan, strategy='mean')\n",
        "# Set which columns imputer should perform\n",
        "missingValueImputer = missingValueImputer.fit (X[:,1:3])\n",
        "# update values of X with new values\n",
        "X[:,1:3] = missingValueImputer.transform(X[:,1:3])\n",
        "\n",
        "print(X)"
      ],
      "metadata": {
        "colab": {
          "base_uri": "https://localhost:8080/"
        },
        "id": "0PCSDHR_54Ej",
        "outputId": "2c5ccd06-3639-47f5-f4b0-79e064e22a88"
      },
      "execution_count": 5,
      "outputs": [
        {
          "output_type": "stream",
          "name": "stdout",
          "text": [
            "[['White' 186.0 90.0]\n",
            " ['African' 185.0 98.0]\n",
            " ['White' 175.0 80.0]\n",
            " ['White' 180.0 88.0]\n",
            " ['Asian' 178.0 85.25]\n",
            " ['Asian' 172.0 72.0]\n",
            " ['African' 178.0 75.0]\n",
            " ['White' 180.0 89.0]\n",
            " ['African' 186.0 90.0]]\n"
          ]
        }
      ]
    },
    {
      "cell_type": "code",
      "source": [
        "from sklearn.preprocessing import LabelEncoder\n",
        "X_labelencoder = LabelEncoder()\n",
        "X[:, 0] = X_labelencoder.fit_transform(X[:, 0])\n",
        "print (X)"
      ],
      "metadata": {
        "colab": {
          "base_uri": "https://localhost:8080/"
        },
        "id": "xEGloDRS580-",
        "outputId": "4df5878a-7761-48b7-b7a5-6b661dfa36e3"
      },
      "execution_count": 6,
      "outputs": [
        {
          "output_type": "stream",
          "name": "stdout",
          "text": [
            "[[2 186.0 90.0]\n",
            " [0 185.0 98.0]\n",
            " [2 175.0 80.0]\n",
            " [2 180.0 88.0]\n",
            " [1 178.0 85.25]\n",
            " [1 172.0 72.0]\n",
            " [0 178.0 75.0]\n",
            " [2 180.0 89.0]\n",
            " [0 186.0 90.0]]\n"
          ]
        }
      ]
    },
    {
      "cell_type": "markdown",
      "source": [
        "Answer: the program will consider the absent values as NaN and proceed later we use SimpleImputer to consider the missing data as the Average or mean value of the data set and use that value in the program."
      ],
      "metadata": {
        "id": "5otIRMlL5LPC"
      }
    },
    {
      "cell_type": "markdown",
      "source": [
        "1) Answer: The value computed by the imputer for these two missing columns are:-\n",
        "\n",
        " 85.25kg , 180.0 cm\n",
        "respectively."
      ],
      "metadata": {
        "id": "YeGZj4ny6mke"
      }
    },
    {
      "cell_type": "markdown",
      "source": [
        "Q2) In the programiming code, find the call to the imputer class. Replace strategy parameter from 'mean' to 'median' and run the output again."
      ],
      "metadata": {
        "id": "U5l9V3rj7Gt9"
      }
    },
    {
      "cell_type": "code",
      "source": [
        "from sklearn.impute import SimpleImputer\n",
        "missingValueImputer = SimpleImputer(missing_values=np.nan, strategy='median')\n",
        "# Set which columns imputer should perform\n",
        "missingValueImputer = missingValueImputer.fit (X[:,1:3])\n",
        "# update values of X with new values\n",
        "X[:,1:3] = missingValueImputer.transform(X[:,1:3])\n",
        "\n",
        "print(X)"
      ],
      "metadata": {
        "colab": {
          "base_uri": "https://localhost:8080/"
        },
        "id": "RSaNmCX17y0o",
        "outputId": "ef496cc8-fa25-46dd-c72c-80105189f8bf"
      },
      "execution_count": 8,
      "outputs": [
        {
          "output_type": "stream",
          "name": "stdout",
          "text": [
            "[[2 186.0 90.0]\n",
            " [0 185.0 98.0]\n",
            " [2 175.0 80.0]\n",
            " [2 180.0 88.0]\n",
            " [1 178.0 85.25]\n",
            " [1 172.0 72.0]\n",
            " [0 178.0 75.0]\n",
            " [2 180.0 89.0]\n",
            " [0 186.0 90.0]]\n"
          ]
        }
      ]
    },
    {
      "cell_type": "markdown",
      "source": [
        "There is no change in the output as shown in the above program."
      ],
      "metadata": {
        "id": "k3HlZdbD8HEc"
      }
    },
    {
      "cell_type": "markdown",
      "source": [
        "Q3) Review the code and explain the function of OneHotEncoder."
      ],
      "metadata": {
        "id": "VrJIa-Ad8T5c"
      }
    },
    {
      "cell_type": "markdown",
      "source": [
        "Code:"
      ],
      "metadata": {
        "id": "UQ1ClMry8nDT"
      }
    },
    {
      "cell_type": "code",
      "source": [
        "from sklearn.preprocessing import OneHotEncoder\n",
        "\n",
        "from sklearn.compose import ColumnTransformer\n",
        "\n",
        "columnTransformer = ColumnTransformer([('encoder', OneHotEncoder(), [0])], remainder='passthrough')\n",
        "\n",
        "X = np.array(columnTransformer.fit_transform(X), dtype = str)\n",
        "\n",
        "print(X)"
      ],
      "metadata": {
        "colab": {
          "base_uri": "https://localhost:8080/"
        },
        "id": "qSDHnfgL8k9u",
        "outputId": "18afd996-63d9-4237-d3af-ba3c4abee3fd"
      },
      "execution_count": 9,
      "outputs": [
        {
          "output_type": "stream",
          "name": "stdout",
          "text": [
            "[['0.0' '0.0' '1.0' '186.0' '90.0']\n",
            " ['1.0' '0.0' '0.0' '185.0' '98.0']\n",
            " ['0.0' '0.0' '1.0' '175.0' '80.0']\n",
            " ['0.0' '0.0' '1.0' '180.0' '88.0']\n",
            " ['0.0' '1.0' '0.0' '178.0' '85.25']\n",
            " ['0.0' '1.0' '0.0' '172.0' '72.0']\n",
            " ['1.0' '0.0' '0.0' '178.0' '75.0']\n",
            " ['0.0' '0.0' '1.0' '180.0' '89.0']\n",
            " ['1.0' '0.0' '0.0' '186.0' '90.0']]\n"
          ]
        }
      ]
    },
    {
      "cell_type": "markdown",
      "source": [
        "A one-hot encoder that maps a column of category indices to a column of binary vectors, with at most a single one-value per row that indicates the input category index. For example with 5 categories, an input value of 2.0 would map to an output vector of [0.0, 0.0, 1.0, 0.0]\n",
        "\n",
        "One-hot encoding can be used to transform one or more categorical features into numerical dummy features useful for training machine learning model. One-hot encoding is also called dummy encoding due to the fact that the transformation of categorical features results into dummy features. OneHotEncoder class of sklearn.\n",
        "\n",
        "By this way instead of classifying the asian,african,white in the numerical way and making them have different values which is bad way of differentiating because then the class with higher number might get more priority in the program or be the dominating class therefore we use this method of classification. (Since all the classes will have the same value and no class will dominate over the other.)"
      ],
      "metadata": {
        "id": "RHgLHfTb81wB"
      }
    },
    {
      "cell_type": "markdown",
      "source": [
        "Q4) After OneHotEncoder code in the tutorial, why does the array X has 5 columns instead of 3 columns as before"
      ],
      "metadata": {
        "id": "alYxl4an-GtS"
      }
    },
    {
      "cell_type": "markdown",
      "source": [
        "Answer: The classes are shown in such way when you add them you will always get the same value. In short the first column of Ethnicity is now divided into 3 parts where each stores a value. They  are unique to different class but have the same value so none of the classes dominate over the other in any way. (and can be differentiated with other class.) \n",
        "\n",
        "Example: Here the classes are \n",
        "1. African i.e [1.0],[0.0],[0.0]\n",
        "2. Asian i.e [0.0],[1.0],[0.0]\n",
        "3. White i.e [0.0],[0.0],[1.0]"
      ],
      "metadata": {
        "id": "OqZIcA1m-pTB"
      }
    },
    {
      "cell_type": "markdown",
      "source": [
        "Q5) the function train_test_split is splitting data into 20% test data and 80% training data. Try test_size of 0.3 instead, run the program again and explain the output of the program."
      ],
      "metadata": {
        "id": "qROv_wBhAhGC"
      }
    },
    {
      "cell_type": "markdown",
      "source": [
        "***Code before changing it to 0.3***"
      ],
      "metadata": {
        "id": "jxp7f9P_CUha"
      }
    },
    {
      "cell_type": "code",
      "source": [
        "from sklearn.model_selection import train_test_split\n",
        "X_train, X_test, y_train, y_test = train_test_split (X, y, test_size = 0.2,\n",
        "                                                     random_state = 0)"
      ],
      "metadata": {
        "id": "n4X03ntwCDQw"
      },
      "execution_count": 11,
      "outputs": []
    },
    {
      "cell_type": "code",
      "source": [
        "from sklearn.preprocessing import StandardScaler\n",
        "independent_scalar = StandardScaler()\n",
        "X_train = independent_scalar.fit_transform (X_train) #fit and transform\n",
        "X_test = independent_scalar.transform (X_test) # only transform\n",
        "print(X_train)"
      ],
      "metadata": {
        "colab": {
          "base_uri": "https://localhost:8080/"
        },
        "id": "z7XANZueCQsj",
        "outputId": "0a866ba0-7d13-4921-9fd6-5503bc07a970"
      },
      "execution_count": 12,
      "outputs": [
        {
          "output_type": "stream",
          "name": "stdout",
          "text": [
            "[[ 1.15470054 -0.63245553 -0.63245553  0.88159065  1.48988518]\n",
            " [-0.8660254   1.58113883 -0.63245553 -0.55834074 -0.02546812]\n",
            " [ 1.15470054 -0.63245553 -0.63245553  1.08729513  0.53907526]\n",
            " [ 1.15470054 -0.63245553 -0.63245553 -0.55834074 -1.24369333]\n",
            " [-0.8660254  -0.63245553  1.58113883 -0.14693177  0.30137279]\n",
            " [-0.8660254  -0.63245553  1.58113883  1.08729513  0.53907526]\n",
            " [-0.8660254   1.58113883 -0.63245553 -1.79256765 -1.60024704]]\n"
          ]
        }
      ]
    },
    {
      "cell_type": "markdown",
      "source": [
        "***Code after changing it to 0.3***"
      ],
      "metadata": {
        "id": "Ff3dvMDIBtHF"
      }
    },
    {
      "cell_type": "code",
      "source": [
        "from sklearn.model_selection import train_test_split\n",
        "X_train, X_test, y_train, y_test = train_test_split (X, y, test_size = 0.3,\n",
        "                                                     random_state = 0)"
      ],
      "metadata": {
        "id": "ChguDB1DCv_v"
      },
      "execution_count": 14,
      "outputs": []
    },
    {
      "cell_type": "code",
      "source": [
        "from sklearn.preprocessing import StandardScaler\n",
        "independent_scalar = StandardScaler()\n",
        "X_train = independent_scalar.fit_transform (X_train) #fit and transform\n",
        "X_test = independent_scalar.transform (X_test) # only transform\n",
        "print(X_train)"
      ],
      "metadata": {
        "colab": {
          "base_uri": "https://localhost:8080/"
        },
        "id": "QMr8x3RgCyJ2",
        "outputId": "e7dbbcf0-04ca-4b0d-df98-5df813c56e9e"
      },
      "execution_count": 15,
      "outputs": [
        {
          "output_type": "stream",
          "name": "stdout",
          "text": [
            "[[-0.70710678  1.41421356 -0.70710678 -0.40824829  0.25992461]\n",
            " [ 1.41421356 -0.70710678 -0.70710678  1.22474487  0.9184003 ]\n",
            " [ 1.41421356 -0.70710678 -0.70710678 -0.40824829 -1.16099661]\n",
            " [-0.70710678 -0.70710678  1.41421356  0.          0.64114738]\n",
            " [-0.70710678 -0.70710678  1.41421356  1.22474487  0.9184003 ]\n",
            " [-0.70710678  1.41421356 -0.70710678 -1.63299316 -1.57687599]]\n"
          ]
        }
      ]
    },
    {
      "cell_type": "markdown",
      "source": [
        "**Observation:** \n",
        "the value of the train data set changes. now it is 30% test data and 70% training data compared to 20 , 80% in the previous case. \n",
        "\n",
        "now the present data set is more practical then the previous case where we took only 20% of the test data."
      ],
      "metadata": {
        "id": "x7no4u5UCq9X"
      }
    },
    {
      "cell_type": "markdown",
      "source": [],
      "metadata": {
        "id": "tYeRKMh_E0or"
      }
    }
  ]
}