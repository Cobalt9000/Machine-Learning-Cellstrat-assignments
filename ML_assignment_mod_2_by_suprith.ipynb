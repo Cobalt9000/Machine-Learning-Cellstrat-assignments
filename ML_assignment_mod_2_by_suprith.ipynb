{
  "nbformat": 4,
  "nbformat_minor": 0,
  "metadata": {
    "colab": {
      "provenance": [],
      "collapsed_sections": [],
      "mount_file_id": "1wMCpz-N5zrDEG-Yh358iviQW5nUicebM",
      "authorship_tag": "ABX9TyPz4fI5ubpKtzgR8Cs6oAUR",
      "include_colab_link": true
    },
    "kernelspec": {
      "name": "python3",
      "display_name": "Python 3"
    },
    "language_info": {
      "name": "python"
    }
  },
  "cells": [
    {
      "cell_type": "markdown",
      "metadata": {
        "id": "view-in-github",
        "colab_type": "text"
      },
      "source": [
        "<a href=\"https://colab.research.google.com/github/Cobalt9000/Machine-Learning-Cellstrat-assignments/blob/main/ML_assignment_mod_2_by_suprith.ipynb\" target=\"_parent\"><img src=\"https://colab.research.google.com/assets/colab-badge.svg\" alt=\"Open In Colab\"/></a>"
      ]
    },
    {
      "cell_type": "markdown",
      "source": [
        "**Module 2:** (Set 1 code) \n",
        "\n",
        "*Basics of Python*"
      ],
      "metadata": {
        "id": "XPL-JkO1tq1t"
      }
    },
    {
      "cell_type": "markdown",
      "source": [
        "Questions for pythonExcercise.ipynb"
      ],
      "metadata": {
        "id": "RILzdTGBuupZ"
      }
    },
    {
      "cell_type": "markdown",
      "source": [
        "1) Cell 1: Change the value to myfloat to 12.0. How does output"
      ],
      "metadata": {
        "id": "QolDwb23vDJE"
      }
    },
    {
      "cell_type": "code",
      "source": [
        "mystring = \"hello\"\n",
        "myfloat = 12.0\n",
        "myint = 20\n",
        "\n",
        "\n",
        "if mystring == \"hello\":\n",
        "  print(\"String: %s\" % mystring)\n",
        "if isinstance(myfloat, float) and myfloat == 10.0:\n",
        "  print(\"Float: %f\" % myfloat)\n",
        "if isinstance(myint, int) and myint == 20:\n",
        "  print(\"Integer: %d\" % myint)\n",
        "\n",
        "mystring\n"
      ],
      "metadata": {
        "colab": {
          "base_uri": "https://localhost:8080/",
          "height": 70
        },
        "id": "1qhEHpNWvlnU",
        "outputId": "1e4f7fbb-683c-4540-dd03-3fc31ae346ca"
      },
      "execution_count": 1,
      "outputs": [
        {
          "output_type": "stream",
          "name": "stdout",
          "text": [
            "String: hello\n",
            "Integer: 20\n"
          ]
        },
        {
          "output_type": "execute_result",
          "data": {
            "text/plain": [
              "'hello'"
            ],
            "application/vnd.google.colaboratory.intrinsic+json": {
              "type": "string"
            }
          },
          "metadata": {},
          "execution_count": 1
        }
      ]
    },
    {
      "cell_type": "markdown",
      "source": [
        "2) Cell 2: Print the 3rd name in the list"
      ],
      "metadata": {
        "id": "xP9xZYkFwI16"
      }
    },
    {
      "cell_type": "code",
      "source": [
        "numbers = []\n",
        "strings = []\n",
        "names = [\"John\", \"Eric\", \"Jessica\"]\n",
        "\n",
        "numbers.append(1)\n",
        "numbers.append(2)\n",
        "numbers.append(3)\n",
        "\n",
        "strings.append(\"hello\")\n",
        "strings.append(\"world\")\n",
        "\n",
        "second_name = names[1]\n",
        "third_name = names[2]\n",
        "\n",
        "print(numbers)\n",
        "print(strings)\n",
        "print(\"The second name on the names list is %s\" % second_name)\n",
        "\n",
        "print(\"\\nRequired output of the question is below:\\n\")\n",
        "print(\"The third name on the names list is %s\" % third_name)\n"
      ],
      "metadata": {
        "colab": {
          "base_uri": "https://localhost:8080/",
          "height": 0
        },
        "id": "V39BLwTxwOe7",
        "outputId": "61d952be-d963-4b78-d16d-d25859d01a11"
      },
      "execution_count": 4,
      "outputs": [
        {
          "output_type": "stream",
          "name": "stdout",
          "text": [
            "[1, 2, 3]\n",
            "['hello', 'world']\n",
            "The second name on the names list is Eric\n",
            "\n",
            "Required output of the question is below:\n",
            "\n",
            "The third name on the names list is Jessica\n"
          ]
        }
      ]
    },
    {
      "cell_type": "markdown",
      "source": [
        "3) Cell 3: Extend the the y_list to contain 3 elements"
      ],
      "metadata": {
        "id": "6WkDUNjewazq"
      }
    },
    {
      "cell_type": "code",
      "source": [
        "x_list = [1,2,3,4,5,6,7,8,9,10]\n",
        "y_list=[\"hello\",\" world\"]\n",
        "\n",
        "Element = input(\"Enter the Element to be inserted in y_list as the third element. \\n\")\n",
        "\n",
        "y_list.append(Element)\n",
        "\n",
        "print(\"x_list contains %d objects\" % len(x_list))\n",
        "print(\"y_list contains %d objects\" % len(y_list))\n",
        "\n",
        "print(\"Updated y_list is : \",y_list)\n"
      ],
      "metadata": {
        "colab": {
          "base_uri": "https://localhost:8080/",
          "height": 0
        },
        "id": "T1YId_1Gwn8C",
        "outputId": "930e5601-0efa-465e-d423-b85d9611c729"
      },
      "execution_count": 6,
      "outputs": [
        {
          "output_type": "stream",
          "name": "stdout",
          "text": [
            "Enter the Element to be inserted in y_list as the third element. \n",
            "Cellstrat\n",
            "x_list contains 10 objects\n",
            "y_list contains 3 objects\n",
            "Updated y_list is :  ['hello', ' world', 'Cellstrat']\n"
          ]
        }
      ]
    },
    {
      "cell_type": "markdown",
      "source": [
        "4) Cell 4: Change the greeting message to something else\n"
      ],
      "metadata": {
        "id": "OW9mkp4azKK1"
      }
    },
    {
      "cell_type": "code",
      "source": [
        "def greeting(name):\n",
        "    print(\"Hello \" + name + \" It's a pleasure to meet you.\")\n",
        "\n",
        "greeting(\"Suprith\")"
      ],
      "metadata": {
        "colab": {
          "base_uri": "https://localhost:8080/",
          "height": 0
        },
        "id": "rqJABzEp0WJr",
        "outputId": "11dcfa4c-411a-4741-f343-eafe6cf0607d"
      },
      "execution_count": 7,
      "outputs": [
        {
          "output_type": "stream",
          "name": "stdout",
          "text": [
            "Hello Suprith It's a pleasure to meet you.\n"
          ]
        }
      ]
    },
    {
      "cell_type": "markdown",
      "source": [
        "5) Cell 5: Print a car with following description: name: ford, color: white, kind:sedan, value:10000"
      ],
      "metadata": {
        "id": "yr3phfC81JZi"
      }
    },
    {
      "cell_type": "code",
      "source": [
        "class Vehicle:\n",
        "    name = \"\"\n",
        "    kind = \"car\"\n",
        "    color = \"\"\n",
        "    value = 100.00\n",
        "    def description(self):\n",
        "        desc_str = \"%s is a %s %s worth $%.2f.\" % (self.name, self.color, self.kind, self.value)\n",
        "        return desc_str\n",
        "\n",
        "v = Vehicle()\n",
        "v.name = \"ford\"\n",
        "v.color = \"white\"\n",
        "v.kind = \"sedan\"\n",
        "v.value = 10000\n",
        "\n",
        "print(car1.description())"
      ],
      "metadata": {
        "colab": {
          "base_uri": "https://localhost:8080/",
          "height": 0
        },
        "id": "dzp40AuJ1fMe",
        "outputId": "f0803b80-4675-414d-9c3a-96b3fd0afcde"
      },
      "execution_count": 10,
      "outputs": [
        {
          "output_type": "stream",
          "name": "stdout",
          "text": [
            "ford is a white sedan worth $10000.00.\n"
          ]
        }
      ]
    },
    {
      "cell_type": "markdown",
      "source": [
        "6) Cell 6: Print the average of weight_kg"
      ],
      "metadata": {
        "id": "09z_LoKq2tbv"
      }
    },
    {
      "cell_type": "code",
      "source": [
        "weight_kg = [81.65, 97.52, 95.25, 92.98, 86.18, 88.45]\n",
        "\n",
        "import numpy as np\n",
        "\n",
        "# Create a numpy array np_weight_kg from\n",
        "# weight_kg\n",
        "\n",
        "np_weight_kg = np.array(weight_kg)\n",
        "\n",
        "# Create np_weight_lbs from np_weight_kg\n",
        "np_weight_lbs = np_weight_kg * 2.2\n",
        "\n",
        "# Print out np_weight_lbs\n",
        "print(np_weight_lbs)\n",
        "\n",
        "print(\"\\nRequired output of the question is given below:\\n\")\n",
        "print(\"Average weight in Kg : \",sum(np_weight_kg)/len(np_weight_kg),\"\\n\" )\n",
        "print(\"Average weight in lbs : \",sum(np_weight_lbs)/len(np_weight_lbs) )"
      ],
      "metadata": {
        "colab": {
          "base_uri": "https://localhost:8080/",
          "height": 0
        },
        "id": "jjALKmzE27Fl",
        "outputId": "fd57ddf0-a285-44dc-a5c1-ec59e298ffa0"
      },
      "execution_count": 15,
      "outputs": [
        {
          "output_type": "stream",
          "name": "stdout",
          "text": [
            "[179.63  214.544 209.55  204.556 189.596 194.59 ]\n",
            "\n",
            "Required output of the question is given below:\n",
            "\n",
            "Average weight in Kg :  90.33833333333335 \n",
            "\n",
            "Average weight in lbs :  198.74433333333334\n"
          ]
        }
      ]
    },
    {
      "cell_type": "markdown",
      "source": [
        "**Module 2:** (Set 2 code)\n",
        "\n",
        "*Introduction to Machine Learning*"
      ],
      "metadata": {
        "id": "Ko--xeMr4dHW"
      }
    },
    {
      "cell_type": "markdown",
      "source": [
        "Questions of LinearRegression.ipynb file"
      ],
      "metadata": {
        "id": "BfcSvmxX48fX"
      }
    },
    {
      "cell_type": "markdown",
      "source": [
        "1) What is SKLEARN ?"
      ],
      "metadata": {
        "id": "cHuuNI3A5RIT"
      }
    },
    {
      "cell_type": "markdown",
      "source": [
        "Answer: Scikit-learn (formerly scikits.learn and also known as sklearn) is a free software machine learning library for the Python\n",
        "programming language. It features various classification, regression and clustering algorithms including support-vector\n",
        "machines, random forests, gradient boosting, k-means and DBSCAN, and is designed to interoperate with the Python\n",
        "numerical and scientific libraries NumPy and SciPy. Scikit-learn is a NumFOCUS fiscally sponsored project."
      ],
      "metadata": {
        "id": "IU3m3eQT5Xj6"
      }
    },
    {
      "cell_type": "markdown",
      "source": [
        "2) Cell 1 (create X and Y vectors) : Try changing input X to pick both columns from datasets instead of just 1st column. What happens.\n",
        "Is this valid ?"
      ],
      "metadata": {
        "id": "FNN951xG57C0"
      }
    },
    {
      "cell_type": "markdown",
      "source": [
        "Answer: Yes it is valid, it returns a 2D array with both Area and Price columns"
      ],
      "metadata": {
        "id": "oL7kMN5V7OfN"
      }
    },
    {
      "cell_type": "markdown",
      "source": [
        "3) Cell 2 (Split data into train and test) : Change test size to 25% of total data. Does that change the output plots ?"
      ],
      "metadata": {
        "id": "x2gOIjgX7QY5"
      }
    },
    {
      "cell_type": "markdown",
      "source": [
        "Answer: Yes, changing test size changes the graph output"
      ],
      "metadata": {
        "id": "KQs9xczS7hfc"
      }
    },
    {
      "cell_type": "markdown",
      "source": [
        "4) Cell 3 (using LinearRegression API of sklearn): Why use SKLEARN for LinearRegression problem ?"
      ],
      "metadata": {
        "id": "0snHl4QN8eEn"
      }
    },
    {
      "cell_type": "markdown",
      "source": [
        "Answer: It offers a set of fast tools for machine learning and statistical modeling, such as classification, regression, clustering, and\n",
        "dimensionality reduction, via a Python interface."
      ],
      "metadata": {
        "id": "vzn80Q6t8lsV"
      }
    },
    {
      "cell_type": "markdown",
      "source": [
        "5) Cell 4 (plotting) : Plot entire dataset (Training + Test) on one plot ? How is the line fit ?\n"
      ],
      "metadata": {
        "id": "sP8zvIzW8tRM"
      }
    },
    {
      "cell_type": "markdown",
      "source": [
        "Answer: The line is fit for the whole data sets plotted in the graph(Both the training data + test data)"
      ],
      "metadata": {
        "id": "jIvhUNy880z9"
      }
    },
    {
      "cell_type": "code",
      "source": [
        "# -*- coding: utf-8 -*-\n",
        "\"\"\"\n",
        "CellStrat\n",
        "\"\"\"\n",
        "\n",
        "#==============================================================================\n",
        "# Import libraries\n",
        "#==============================================================================\n",
        "import numpy as np\n",
        "import matplotlib.pyplot as plt\n",
        "import pandas as pd\n",
        "\n",
        "#==============================================================================\n",
        "# import the dataset of flat prices\n",
        "#==============================================================================\n",
        "\n",
        "flatdata = pd.read_csv ('Price.csv')\n",
        "X = flatdata.iloc [:,:-1].values\n",
        "y = flatdata.iloc [:,1].values"
      ],
      "metadata": {
        "id": "btsBMb7D9qfF"
      },
      "execution_count": 20,
      "outputs": []
    },
    {
      "cell_type": "code",
      "source": [
        "#==============================================================================\n",
        "# split the dataset into training and test set. We will use 1/3 approach\n",
        "#==============================================================================\n",
        "\n",
        "from sklearn.model_selection import train_test_split\n",
        "X_train, X_test, y_train, y_test = train_test_split (X, y, test_size = 1/4, \n",
        "                                                     random_state = 0)\n",
        "\n"
      ],
      "metadata": {
        "id": "W1d6FGJzAQ6Y"
      },
      "execution_count": 26,
      "outputs": []
    },
    {
      "cell_type": "code",
      "source": [
        "#==============================================================================\n",
        "# Fitting the Linear Regression algo to the Training set\n",
        "#==============================================================================\n",
        "\n",
        "from sklearn.linear_model import LinearRegression\n",
        "regressoragent = LinearRegression()\n",
        "regressoragent.fit (X_train, y_train )            "
      ],
      "metadata": {
        "colab": {
          "base_uri": "https://localhost:8080/",
          "height": 0
        },
        "id": "O6jStvUMAUJC",
        "outputId": "683e5a34-af0c-42a3-c8e7-6dfe7724d486"
      },
      "execution_count": 27,
      "outputs": [
        {
          "output_type": "execute_result",
          "data": {
            "text/plain": [
              "LinearRegression()"
            ]
          },
          "metadata": {},
          "execution_count": 27
        }
      ]
    },
    {
      "cell_type": "code",
      "source": [
        "#==============================================================================\n",
        "# Now check what our model learned by predicting the X_test values\n",
        "#==============================================================================\n",
        "\n",
        "predictValues = regressoragent.predict(X_test)\n",
        "\n",
        "print(y_test - predictValues)\n",
        "\n",
        "#==============================================================================\n",
        "# So now let us visualize the Training set\n",
        "#==============================================================================\n",
        "plt.scatter(X_train, y_train, color = 'green')\n",
        "plt.plot (X_train, regressoragent.predict (X_train), color = 'red')\n",
        "plt.title ('compare Training result - Area/Price')\n",
        "plt.xlabel('Area of Flat')\n",
        "plt.ylabel('Price')\n",
        "plt.show()\n",
        "\n",
        "#==============================================================================\n",
        "# So now let us visualize the Test set\n",
        "#==============================================================================\n",
        "plt.scatter(X_test, y_test, color = 'green')\n",
        "plt.plot (X_train, regressoragent.predict (X_train), color = 'red')\n",
        "plt.title ('compare Test result - Area/Price')\n",
        "plt.xlabel('Area of Flat')\n",
        "plt.ylabel('Price')\n",
        "plt.show()\n",
        "\n",
        "print(\"\\nPlotting entire dataset (Training + Test) in one plot. \\n\")\n",
        "#==============================================================================\n",
        "# So now let us visualize the ENTIRE set\n",
        "#==============================================================================\n",
        "plt.scatter(X_train, y_train, color = 'green')\n",
        "plt.scatter(X_test, y_test, color = 'blue')\n",
        "plt.plot (X_train, regressoragent.predict (X_train), color = 'red')\n",
        "plt.title ('Comparing ENTIRE Result - Area/Price')\n",
        "plt.xlabel('Area of Flat')\n",
        "plt.ylabel('Price')\n",
        "plt.show()"
      ],
      "metadata": {
        "colab": {
          "base_uri": "https://localhost:8080/",
          "height": 955
        },
        "id": "LoS16yMcAYcE",
        "outputId": "73ef1ec5-e442-4053-961b-a11f0b557dcf"
      },
      "execution_count": 32,
      "outputs": [
        {
          "output_type": "stream",
          "name": "stdout",
          "text": [
            "[ 3906.75045816 -5593.24954184  -601.04657911  -427.0606292\n",
            "  6493.46395846   139.12828345 -2592.37522908  1195.77153329\n",
            "  5510.80665852  -178.21441662]\n"
          ]
        },
        {
          "output_type": "display_data",
          "data": {
            "text/plain": [
              "<Figure size 432x288 with 1 Axes>"
            ],
            "image/png": "[encoded data removed]"
          },
          "metadata": {
            "needs_background": "light"
          }
        },
        {
          "output_type": "display_data",
          "data": {
            "text/plain": [
              "<Figure size 432x288 with 1 Axes>"
            ],
            "image/png": "[encoded data removed]"
          },
          "metadata": {
            "needs_background": "light"
          }
        },
        {
          "output_type": "stream",
          "name": "stdout",
          "text": [
            "\n",
            "Plotting entire dataset (Training + Test) in one plot. \n",
            "\n"
          ]
        },
        {
          "output_type": "display_data",
          "data": {
            "text/plain": [
              "<Figure size 432x288 with 1 Axes>"
            ],
            "image/png": "[encoded data removed]"
          },
          "metadata": {
            "needs_background": "light"
          }
        }
      ]
    }
  ]
}