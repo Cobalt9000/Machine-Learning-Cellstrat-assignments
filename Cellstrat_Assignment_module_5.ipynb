{
  "nbformat": 4,
  "nbformat_minor": 0,
  "metadata": {
    "colab": {
      "provenance": [],
      "authorship_tag": "ABX9TyMI29KgEi1xkrijcY55JcnT",
      "include_colab_link": true
    },
    "kernelspec": {
      "name": "python3",
      "display_name": "Python 3"
    },
    "language_info": {
      "name": "python"
    }
  },
  "cells": [
    {
      "cell_type": "markdown",
      "metadata": {
        "id": "view-in-github",
        "colab_type": "text"
      },
      "source": [
        "<a href=\"https://colab.research.google.com/github/Cobalt9000/Machine-Learning-Cellstrat-assignments/blob/main/Cellstrat_Assignment_module_5.ipynb\" target=\"_parent\"><img src=\"https://colab.research.google.com/assets/colab-badge.svg\" alt=\"Open In Colab\"/></a>"
      ]
    },
    {
      "cell_type": "markdown",
      "source": [
        "#**Module 5: Regression**"
      ],
      "metadata": {
        "id": "s4WtMqttI6DL"
      }
    },
    {
      "cell_type": "markdown",
      "source": [
        "*Questions: (LinearRegression.ipynb)  (set 1 code)*"
      ],
      "metadata": {
        "id": "va6OE4wNJIYp"
      }
    },
    {
      "cell_type": "markdown",
      "source": [
        "1) **Cell 1:** Make changes in the creat_y function to reduce the MSE in cell 4"
      ],
      "metadata": {
        "id": "QTfUuH73JX_6"
      }
    },
    {
      "cell_type": "code",
      "source": [
        "import numpy as np\n",
        "\n",
        "def create_y(x):\n",
        "    res = x*5 + 3 + np.random.randn(len(x)).reshape((len(x),1))*0.3\n",
        "    # API hint : check https://docs.scipy.org/doc/numpy/reference/generated/numpy.random.randn.html\n",
        "    \n",
        "    return res\n",
        "\n",
        "x = np.random.uniform(1,500,150) \n",
        "x=x.reshape(len(x),1)\n",
        "print(np.size(x))\n",
        "print (\"x = \", x)\n",
        "y = create_y(x)\n",
        "print(np.size(y))\n",
        "print(\"y = \", y)\n",
        "\n",
        "\n",
        "print(\"MSE: %.2f\" % np.mean((linReg.predict(X_test) - Y_test) ** 2))\n"
      ],
      "metadata": {
        "colab": {
          "base_uri": "https://localhost:8080/"
        },
        "id": "E3i2wq6CJr_X",
        "outputId": "83a865f0-87b8-4e69-ad81-c7cd9df55851"
      },
      "execution_count": null,
      "outputs": [
        {
          "output_type": "stream",
          "name": "stdout",
          "text": [
            "150\n",
            "x =  [[165.6411105 ]\n",
            " [164.0474251 ]\n",
            " [129.1420785 ]\n",
            " [469.11329346]\n",
            " [488.54583297]\n",
            " [401.90687706]\n",
            " [ 65.54593601]\n",
            " [  6.42455621]\n",
            " [412.79731123]\n",
            " [ 91.14796388]\n",
            " [381.40720639]\n",
            " [172.89534595]\n",
            " [194.93421664]\n",
            " [342.31582073]\n",
            " [121.94164767]\n",
            " [134.7183208 ]\n",
            " [402.31866732]\n",
            " [438.13395767]\n",
            " [392.82271388]\n",
            " [245.56436669]\n",
            " [475.01269025]\n",
            " [259.92564169]\n",
            " [ 62.69640818]\n",
            " [494.00425959]\n",
            " [460.30819454]\n",
            " [ 73.9472784 ]\n",
            " [320.62969998]\n",
            " [481.64431982]\n",
            " [ 38.54460599]\n",
            " [372.28398937]\n",
            " [118.27334996]\n",
            " [472.80100569]\n",
            " [360.96953199]\n",
            " [161.82079012]\n",
            " [ 67.88102949]\n",
            " [ 94.92389545]\n",
            " [  8.67592232]\n",
            " [420.03603035]\n",
            " [348.46334854]\n",
            " [ 80.11619842]\n",
            " [489.68163001]\n",
            " [460.03670407]\n",
            " [264.52167063]\n",
            " [ 64.87960715]\n",
            " [ 71.59529299]\n",
            " [ 33.77745826]\n",
            " [405.85382962]\n",
            " [169.09141098]\n",
            " [326.12106436]\n",
            " [264.92150886]\n",
            " [468.9261267 ]\n",
            " [234.05822287]\n",
            " [123.35465084]\n",
            " [  9.63978347]\n",
            " [346.43621269]\n",
            " [394.98099486]\n",
            " [316.4438069 ]\n",
            " [321.70504921]\n",
            " [299.61826588]\n",
            " [285.58375917]\n",
            " [411.44204108]\n",
            " [187.99799524]\n",
            " [240.0613438 ]\n",
            " [303.90556115]\n",
            " [145.16646469]\n",
            " [202.74958059]\n",
            " [174.61035533]\n",
            " [340.65603226]\n",
            " [493.54197681]\n",
            " [319.1140336 ]\n",
            " [360.46724838]\n",
            " [100.96079761]\n",
            " [182.29025803]\n",
            " [287.32715432]\n",
            " [492.86155556]\n",
            " [442.23510577]\n",
            " [193.55018085]\n",
            " [ 18.1759838 ]\n",
            " [409.9739007 ]\n",
            " [196.79368886]\n",
            " [ 74.31646258]\n",
            " [221.02648875]\n",
            " [286.638106  ]\n",
            " [338.85018341]\n",
            " [ 54.09317802]\n",
            " [ 82.66474539]\n",
            " [234.75221075]\n",
            " [143.49253305]\n",
            " [186.22835116]\n",
            " [477.11117359]\n",
            " [449.25828954]\n",
            " [245.84576438]\n",
            " [139.53175481]\n",
            " [378.51983158]\n",
            " [346.81004646]\n",
            " [119.13766811]\n",
            " [178.34237931]\n",
            " [395.4225021 ]\n",
            " [279.58854542]\n",
            " [124.54093037]\n",
            " [141.0309291 ]\n",
            " [211.55898195]\n",
            " [103.13197715]\n",
            " [192.68875415]\n",
            " [332.6685782 ]\n",
            " [ 86.96447731]\n",
            " [ 49.3399607 ]\n",
            " [320.97105833]\n",
            " [365.83517295]\n",
            " [133.98621586]\n",
            " [115.97645285]\n",
            " [317.15910899]\n",
            " [166.32914733]\n",
            " [296.14708453]\n",
            " [245.39904752]\n",
            " [129.73536064]\n",
            " [ 92.51326052]\n",
            " [331.54863871]\n",
            " [453.7127013 ]\n",
            " [ 79.6584691 ]\n",
            " [ 37.30836356]\n",
            " [215.87826321]\n",
            " [ 90.05764947]\n",
            " [ 61.13326511]\n",
            " [330.99039848]\n",
            " [246.76170929]\n",
            " [472.66803235]\n",
            " [173.99483287]\n",
            " [317.2617393 ]\n",
            " [204.5802551 ]\n",
            " [289.12640253]\n",
            " [139.34230061]\n",
            " [367.27440327]\n",
            " [ 89.02090488]\n",
            " [284.18509174]\n",
            " [ 29.3293439 ]\n",
            " [350.73692784]\n",
            " [ 80.39999186]\n",
            " [170.9637314 ]\n",
            " [237.13227851]\n",
            " [301.44630677]\n",
            " [463.52015148]\n",
            " [489.04123279]\n",
            " [393.32835213]\n",
            " [421.7858059 ]\n",
            " [ 76.82020496]\n",
            " [162.40625842]\n",
            " [161.60349054]\n",
            " [277.0444194 ]\n",
            " [276.27510466]]\n",
            "150\n",
            "y =  [[ 830.81202588]\n",
            " [ 823.51790231]\n",
            " [ 648.74131775]\n",
            " [2348.26227934]\n",
            " [2445.77152601]\n",
            " [2012.69312945]\n",
            " [ 330.88213098]\n",
            " [  35.34660646]\n",
            " [2067.31843978]\n",
            " [ 459.26155514]\n",
            " [1910.30358067]\n",
            " [ 867.52085921]\n",
            " [ 976.97457877]\n",
            " [1715.15404685]\n",
            " [ 612.94364758]\n",
            " [ 676.62458938]\n",
            " [2014.19535273]\n",
            " [2193.16799423]\n",
            " [1966.50256172]\n",
            " [1230.98420962]\n",
            " [2378.40409214]\n",
            " [1302.4277683 ]\n",
            " [ 316.47384706]\n",
            " [2472.93645404]\n",
            " [2304.63525041]\n",
            " [ 373.15352145]\n",
            " [1605.71132632]\n",
            " [2411.07442181]\n",
            " [ 195.72251973]\n",
            " [1863.96152252]\n",
            " [ 594.54418561]\n",
            " [2367.39018768]\n",
            " [1806.92063697]\n",
            " [ 812.77797665]\n",
            " [ 342.35889826]\n",
            " [ 477.96220526]\n",
            " [  46.1169393 ]\n",
            " [2103.26615305]\n",
            " [1744.79861797]\n",
            " [ 403.36584098]\n",
            " [2451.04903648]\n",
            " [2303.34758508]\n",
            " [1325.69097644]\n",
            " [ 327.69380606]\n",
            " [ 360.76345098]\n",
            " [ 172.17233837]\n",
            " [2032.21038879]\n",
            " [ 848.65800001]\n",
            " [1633.39350055]\n",
            " [1328.35223778]\n",
            " [2347.6113516 ]\n",
            " [1173.71501099]\n",
            " [ 619.96461707]\n",
            " [  51.61042202]\n",
            " [1735.38852895]\n",
            " [1977.94146029]\n",
            " [1585.14419309]\n",
            " [1611.7187296 ]\n",
            " [1500.96052036]\n",
            " [1431.26783142]\n",
            " [2060.62941277]\n",
            " [ 942.89648262]\n",
            " [1203.59729641]\n",
            " [1522.86734685]\n",
            " [ 729.05233045]\n",
            " [1016.81890529]\n",
            " [ 875.93311337]\n",
            " [1705.81087852]\n",
            " [2470.3536212 ]\n",
            " [1598.32758882]\n",
            " [1805.28542847]\n",
            " [ 507.57788806]\n",
            " [ 914.42634509]\n",
            " [1439.80903606]\n",
            " [2467.55871996]\n",
            " [2214.43936998]\n",
            " [ 970.99587325]\n",
            " [  94.37226005]\n",
            " [2052.87784266]\n",
            " [ 986.70002473]\n",
            " [ 374.80605024]\n",
            " [1108.45104293]\n",
            " [1436.1798126 ]\n",
            " [1697.53157372]\n",
            " [ 272.93124389]\n",
            " [ 416.56389564]\n",
            " [1176.78109142]\n",
            " [ 720.40841437]\n",
            " [ 934.52442063]\n",
            " [2388.84126188]\n",
            " [2249.0258938 ]\n",
            " [1232.75447308]\n",
            " [ 700.53951034]\n",
            " [1895.21268173]\n",
            " [1737.14464151]\n",
            " [ 598.71814622]\n",
            " [ 894.95896804]\n",
            " [1980.19061842]\n",
            " [1400.62653074]\n",
            " [ 625.84434275]\n",
            " [ 708.4523768 ]\n",
            " [1060.91385459]\n",
            " [ 519.15208347]\n",
            " [ 966.58574992]\n",
            " [1666.35737422]\n",
            " [ 437.88602727]\n",
            " [ 250.02179706]\n",
            " [1608.10848798]\n",
            " [1831.86782565]\n",
            " [ 673.04951753]\n",
            " [ 582.88057244]\n",
            " [1588.09116429]\n",
            " [ 834.40693636]\n",
            " [1483.7750189 ]\n",
            " [1230.06479244]\n",
            " [ 651.84740864]\n",
            " [ 465.44122167]\n",
            " [1660.57538041]\n",
            " [2271.70441611]\n",
            " [ 401.5041035 ]\n",
            " [ 189.30482299]\n",
            " [1082.24719136]\n",
            " [ 452.85587891]\n",
            " [ 308.71636192]\n",
            " [1658.3806123 ]\n",
            " [1236.95605714]\n",
            " [2366.57657874]\n",
            " [ 873.20665398]\n",
            " [1589.2395305 ]\n",
            " [1025.6541805 ]\n",
            " [1449.00497679]\n",
            " [ 699.66730846]\n",
            " [1839.61118329]\n",
            " [ 447.75964824]\n",
            " [1423.97491351]\n",
            " [ 149.37676328]\n",
            " [1756.16463719]\n",
            " [ 405.30377297]\n",
            " [ 857.63194865]\n",
            " [1188.83932421]\n",
            " [1510.13955249]\n",
            " [2320.76621905]\n",
            " [2448.6322175 ]\n",
            " [1969.07373063]\n",
            " [2112.11642131]\n",
            " [ 387.46544542]\n",
            " [ 814.97360953]\n",
            " [ 810.82334801]\n",
            " [1388.44370608]\n",
            " [1384.36217204]]\n",
            "MSE: 0.04\n"
          ]
        }
      ]
    },
    {
      "cell_type": "markdown",
      "source": [
        "2) **Cell 2:**  Increase the test data to 20"
      ],
      "metadata": {
        "id": "MQA3QSSX3-qC"
      }
    },
    {
      "cell_type": "markdown",
      "source": [
        "Answer:"
      ],
      "metadata": {
        "id": "eTD7ongm6B1h"
      }
    },
    {
      "cell_type": "code",
      "source": [
        "import numpy as np\n",
        "from sklearn import linear_model\n",
        "\n",
        "linReg = linear_model.LinearRegression()\n",
        "\n",
        "\n",
        "#first 150 numbers are taken for training step. Last 20 numbers for test step.\n",
        "X_train = np.array(x[:-20])\n",
        "Y_train = np.array(y[:-20])\n",
        "\n",
        "X_test = x[-20:]\n",
        "Y_test = y[-20:]\n",
        "\n",
        "# feed the linear regression with the train data to obtain a model.\n",
        "linReg.fit(X_train, Y_train)\n",
        "m = linReg.coef_[0]\n",
        "b = linReg.intercept_\n",
        "print(' y = {0} * x + {1}'.format(m, b))"
      ],
      "metadata": {
        "colab": {
          "base_uri": "https://localhost:8080/"
        },
        "id": "1PDQZ0hb6ECg",
        "outputId": "d6f981be-753e-48fb-fe4e-7ebbaeb6aef6"
      },
      "execution_count": null,
      "outputs": [
        {
          "output_type": "stream",
          "name": "stdout",
          "text": [
            " y = [4.99995646] * x + [3.01973562]\n"
          ]
        }
      ]
    },
    {
      "cell_type": "markdown",
      "source": [
        "plotting the curve of the equation"
      ],
      "metadata": {
        "id": "Mb-QuJXi8oDy"
      }
    },
    {
      "cell_type": "code",
      "source": [
        "import matplotlib.pyplot as plt\n",
        "import numpy as np\n",
        "\n",
        "plt.scatter(x,y,color='k')\n",
        "min_x= np.min(x)\n",
        "max_x= np.max(x)\n",
        "plt.plot([min_x, max_x], [b, m*max_x + b], 'r')\n",
        "\n",
        "plt.title('Linear Regression')\n",
        "plt.xlabel('x')\n",
        "plt.ylabel('y')\n",
        "plt.show()"
      ],
      "metadata": {
        "colab": {
          "base_uri": "https://localhost:8080/",
          "height": 295
        },
        "id": "f_aSArtV8w4j",
        "outputId": "335d9d1a-e2b5-4e01-9a98-6aecd7bcbfa8"
      },
      "execution_count": null,
      "outputs": [
        {
          "output_type": "display_data",
          "data": {
            "text/plain": [
              "<Figure size 432x288 with 1 Axes>"
            ],
            "image/png": "[encoded data removed]"
          },
          "metadata": {
            "needs_background": "light"
          }
        }
      ]
    },
    {
      "cell_type": "markdown",
      "source": [
        "printing variance score:"
      ],
      "metadata": {
        "id": "i9fz1lI1857g"
      }
    },
    {
      "cell_type": "code",
      "source": [
        "print(\"MSE: %.2f\" % np.mean((linReg.predict(X_test) - Y_test) ** 2))\n",
        "# Explained variance score: 1 is perfect prediction\n",
        "print('Variance score: %.2f' % linReg.score(X_test, Y_test))"
      ],
      "metadata": {
        "colab": {
          "base_uri": "https://localhost:8080/"
        },
        "id": "jEoTeTuJ8-UR",
        "outputId": "ffd6d322-affb-4c6c-fd80-56f39bb29287"
      },
      "execution_count": null,
      "outputs": [
        {
          "output_type": "stream",
          "name": "stdout",
          "text": [
            "MSE: 0.04\n",
            "Variance score: 1.00\n"
          ]
        }
      ]
    },
    {
      "cell_type": "markdown",
      "source": [],
      "metadata": {
        "id": "rX2_EgVx80Zn"
      }
    },
    {
      "cell_type": "markdown",
      "source": [
        "**Questions**  \n",
        "\n",
        "*PolynomialRegression.ipynb file (Set 2 code)*"
      ],
      "metadata": {
        "id": "TZk8NSEJ62wE"
      }
    },
    {
      "cell_type": "markdown",
      "source": [
        "Q1) Change the degree of the polynomial from (PolynomialFeatures(degree =1)) from 1,2,3 and interpret the resulting regression plot. Which one underfitted, right-fitted and overfitted."
      ],
      "metadata": {
        "id": "Xw_6YaKw7JsB"
      }
    },
    {
      "cell_type": "markdown",
      "source": [
        "Answer: "
      ],
      "metadata": {
        "id": "DymFXU1u7zYC"
      }
    },
    {
      "cell_type": "code",
      "source": [
        "import numpy as np\n",
        "import matplotlib.pyplot as plt\n",
        "import pandas as pd"
      ],
      "metadata": {
        "id": "g4pNjxUb8Vjm"
      },
      "execution_count": null,
      "outputs": []
    },
    {
      "cell_type": "code",
      "source": [
        "insuranceData = pd.read_csv ('Insurance.csv')\n",
        "\n",
        "X = insuranceData.iloc [:,0:1].values\n",
        "y = insuranceData.iloc [:, 1].values"
      ],
      "metadata": {
        "id": "ZneQ86pKvSxy"
      },
      "execution_count": null,
      "outputs": []
    },
    {
      "cell_type": "markdown",
      "source": [
        "**Underfitted:**"
      ],
      "metadata": {
        "id": "r2cnlz-CzVsc"
      }
    },
    {
      "cell_type": "code",
      "source": [
        "from sklearn.linear_model import LinearRegression\n",
        "linregressor = LinearRegression()\n",
        "linregressor.fit(X, y)\n",
        "\n",
        "plt.scatter(X, y, color = 'red')\n",
        "plt.plot(X, linregressor.predict(X), color = 'blue')\n",
        "plt.title('Insurance Premium - Linear')\n",
        "plt.xlabel('Age')\n",
        "plt.ylabel('Premium')\n",
        "plt.show()"
      ],
      "metadata": {
        "colab": {
          "base_uri": "https://localhost:8080/",
          "height": 295
        },
        "id": "Tx33xQiTzZOk",
        "outputId": "4d5e0c64-18a9-497a-8da3-22f670597934"
      },
      "execution_count": null,
      "outputs": [
        {
          "output_type": "display_data",
          "data": {
            "text/plain": [
              "<Figure size 432x288 with 1 Axes>"
            ],
            "image/png": "[encoded data removed]"
          },
          "metadata": {
            "needs_background": "light"
          }
        }
      ]
    },
    {
      "cell_type": "markdown",
      "source": [
        "**Right-fitted:**"
      ],
      "metadata": {
        "id": "ZFNfSsO7yJEa"
      }
    },
    {
      "cell_type": "code",
      "source": [
        "from sklearn.preprocessing import PolynomialFeatures # Features\n",
        "\n",
        "# First create a polynomial\n",
        "polyfeature = PolynomialFeatures(degree = 2)\n",
        "Poly_Matrix = polyfeature.fit_transform(X)\n",
        "\n",
        "# Now fit the polynomial matrix into linear regressor\n",
        "linregressor2 = LinearRegression()\n",
        "linregressor2.fit(Poly_Matrix, y)\n",
        "\n",
        "plt.scatter(X, y, color = 'red')\n",
        "plt.plot(X, linregressor2.predict(polyfeature.fit_transform(X)), color = 'green')\n",
        "plt.title('Insurance Premium - Polynomial')\n",
        "plt.xlabel('Age')\n",
        "plt.ylabel('Premium')\n",
        "plt.show()"
      ],
      "metadata": {
        "colab": {
          "base_uri": "https://localhost:8080/",
          "height": 295
        },
        "id": "rX6vY0R2v1_d",
        "outputId": "df5151d8-283a-4c71-ab8c-5517a922545a"
      },
      "execution_count": null,
      "outputs": [
        {
          "output_type": "display_data",
          "data": {
            "text/plain": [
              "<Figure size 432x288 with 1 Axes>"
            ],
            "image/png": "[encoded data removed]"
          },
          "metadata": {
            "needs_background": "light"
          }
        }
      ]
    },
    {
      "cell_type": "markdown",
      "source": [
        "**Overfitted:**"
      ],
      "metadata": {
        "id": "dx-gBXzT0eeC"
      }
    },
    {
      "cell_type": "code",
      "source": [
        "from sklearn.preprocessing import PolynomialFeatures # Features\n",
        "\n",
        "# First create a polynomial\n",
        "polyfeature = PolynomialFeatures(degree = 5)\n",
        "Poly_Matrix = polyfeature.fit_transform(X)\n",
        "\n",
        "# Now fit the polynomial matrix into linear regressor\n",
        "linregressor2 = LinearRegression()\n",
        "linregressor2.fit(Poly_Matrix, y)\n",
        "\n",
        "plt.scatter(X, y, color = 'red')\n",
        "plt.plot(X, linregressor2.predict(polyfeature.fit_transform(X)), color = 'green')\n",
        "plt.title('Insurance Premium - Polynomial')\n",
        "plt.xlabel('Age')\n",
        "plt.ylabel('Premium')\n",
        "plt.show()"
      ],
      "metadata": {
        "colab": {
          "base_uri": "https://localhost:8080/",
          "height": 295
        },
        "id": "0bQrbz2nv4t4",
        "outputId": "ef7d19d7-6a91-42ae-a369-1cb2235cdfed"
      },
      "execution_count": null,
      "outputs": [
        {
          "output_type": "display_data",
          "data": {
            "text/plain": [
              "<Figure size 432x288 with 1 Axes>"
            ],
            "image/png": "[encoded data removed]"
          },
          "metadata": {
            "needs_background": "light"
          }
        }
      ]
    },
    {
      "cell_type": "markdown",
      "source": [
        "Q2) What is the insurance claim predictated for age 70 with (provide rough values) :-"
      ],
      "metadata": {
        "id": "NIZuezfE43y3"
      }
    },
    {
      "cell_type": "markdown",
      "source": [
        "Answer: The insurance claim predictated for age 70 is:"
      ],
      "metadata": {
        "id": "zTkvo6KP5Nxb"
      }
    },
    {
      "cell_type": "markdown",
      "source": [
        "*   Polynomial regression with degree 2"
      ],
      "metadata": {
        "id": "grh0UK4n8reM"
      }
    },
    {
      "cell_type": "code",
      "source": [
        "from sklearn.preprocessing import PolynomialFeatures \n",
        "\n",
        "polyfeature = PolynomialFeatures(degree = 2)\n",
        "Poly_Matrix = polyfeature.fit_transform(X)\n",
        "\n",
        "linregressor2.fit(Poly_Matrix, y)\n",
        "\n",
        "print (\"polynomial prediction of the insurance claim  is \", predictionPoly , \"\\n\")\n",
        "\n",
        "#For the polynomial regression result graph.\n",
        "plt.scatter(val, predictionPoly, color = 'red')\n",
        "plt.plot(X, linregressor2.predict(polyfeature.fit_transform(X)), color = 'green')\n",
        "plt.title('Insurance Premium - Test with Polynomial')\n",
        "plt.xlabel('Age')\n",
        "plt.ylabel('Premium')\n",
        "plt.show()"
      ],
      "metadata": {
        "colab": {
          "base_uri": "https://localhost:8080/",
          "height": 330
        },
        "id": "miy1P18B8r7u",
        "outputId": "d9b2d53e-b2bc-43e2-bd02-496b90f16bac"
      },
      "execution_count": null,
      "outputs": [
        {
          "output_type": "stream",
          "name": "stdout",
          "text": [
            "polynomial prediction of the insurance claim  is  [99837.79255534] \n",
            "\n"
          ]
        },
        {
          "output_type": "display_data",
          "data": {
            "text/plain": [
              "<Figure size 432x288 with 1 Axes>"
            ],
            "image/png": "[encoded data removed]"
          },
          "metadata": {
            "needs_background": "light"
          }
        }
      ]
    },
    {
      "cell_type": "markdown",
      "source": [
        "\n",
        "\n",
        "*   Linear Regression\n"
      ],
      "metadata": {
        "id": "1Gt0mC7Q8cQL"
      }
    },
    {
      "cell_type": "code",
      "source": [
        "val = np.array([70])\n",
        "val=val.reshape(-1,1)\n",
        "predictionlinear = linregressor.predict (val)\n",
        "predictionPoly = linregressor2.predict (polyfeature.fit_transform(val))\n",
        "\n",
        "print (\"linear prediction of the insurance claim  is \", predictionlinear ,\"\\n\")\n",
        "\n",
        "#For the Linear regression graph.\n",
        "plt.scatter(val, predictionlinear, color = 'red')\n",
        "plt.plot(X, linregressor.predict(X), color = 'blue')\n",
        "plt.title('Insurance Premium - Test with Linear')\n",
        "plt.xlabel('Age')\n",
        "plt.ylabel('Premium')\n",
        "plt.show()"
      ],
      "metadata": {
        "colab": {
          "base_uri": "https://localhost:8080/",
          "height": 330
        },
        "id": "PzwkISe05KK6",
        "outputId": "21480626-4a8e-443e-c6e5-2f61c5a696be"
      },
      "execution_count": null,
      "outputs": [
        {
          "output_type": "stream",
          "name": "stdout",
          "text": [
            "linear prediction of the insurance claim  is  [61345.45454545] \n",
            "\n"
          ]
        },
        {
          "output_type": "display_data",
          "data": {
            "text/plain": [
              "<Figure size 432x288 with 1 Axes>"
            ],
            "image/png": "[encoded data removed]"
          },
          "metadata": {
            "needs_background": "light"
          }
        }
      ]
    },
    {
      "cell_type": "markdown",
      "source": [
        "**Questions:** \n",
        "\n",
        "*Linear and polynomial Regression.ipnyb file (Set 2 code)*"
      ],
      "metadata": {
        "id": "6EDhcYvx8eba"
      }
    },
    {
      "cell_type": "markdown",
      "source": [
        "Q1) What is the difference you see in the stochastic, mini-batch and batch gradient descent ? Interpret the results."
      ],
      "metadata": {
        "id": "hZ-5umvo8Ajm"
      }
    },
    {
      "cell_type": "markdown",
      "source": [
        "Answer: \n",
        "\n",
        "\n",
        "**Stochastic gradient descent:** it is an optimization algorithm often used in machine learning applications to find the model parameters that correspond to the best fit between predicted and actual outputs. It's an inexact but powerful technique. Stochastic gradient descent is widely used in machine learning applications.\n",
        "\n",
        "\n",
        "**Mini Batch Gradient Descent:** it is considered to be the cross-over between GD and SGD. In this approach instead of iterating through the entire dataset or one observation, we split the dataset into small subsets (batches) and compute the gradients for each batch.\n",
        "\n",
        "**Batch gradient descent** it is a variation of the gradient descent algorithm that calculates the error for each example in the training dataset, but only updates the model after all training examples have been evaluated. One cycle through the entire training dataset is called a training epoch.\n"
      ],
      "metadata": {
        "id": "iLZ31UYn-qFx"
      }
    },
    {
      "cell_type": "markdown",
      "source": [
        "Safety measure codes:"
      ],
      "metadata": {
        "id": "mGZChU4bFEVh"
      }
    },
    {
      "cell_type": "code",
      "source": [
        "# To support the file in python 3\n",
        "from __future__ import division, print_function, unicode_literals\n",
        "\n",
        "# Common imports\n",
        "import numpy as np\n",
        "import os\n",
        "\n",
        "# to make this notebook's output stable across runs\n",
        "np.random.seed(42)"
      ],
      "metadata": {
        "id": "lw1tO43EIHQ1"
      },
      "execution_count": 45,
      "outputs": []
    },
    {
      "cell_type": "markdown",
      "source": [
        "Training model:"
      ],
      "metadata": {
        "id": "kupuIWA-JPtm"
      }
    },
    {
      "cell_type": "code",
      "source": [
        "# To plot pretty figures\n",
        "#get_ipython().magic('matplotlib inline')\n",
        "import matplotlib\n",
        "import matplotlib.pyplot as plt\n",
        "plt.rcParams['axes.labelsize'] = 14\n",
        "plt.rcParams['xtick.labelsize'] = 12\n",
        "plt.rcParams['ytick.labelsize'] = 12"
      ],
      "metadata": {
        "id": "dYZMQ-q_II4X"
      },
      "execution_count": 47,
      "outputs": []
    },
    {
      "cell_type": "code",
      "source": [
        "# Where to save the figures\n",
        "PROJECT_ROOT_DIR = \".\"\n",
        "CHAPTER_ID = \"training_linear_models\"\n",
        "\n",
        "def save_fig(fig_id, tight_layout=True):\n",
        "    path = os.path.join(PROJECT_ROOT_DIR, \"images\", CHAPTER_ID, fig_id + \".png\")\n",
        "    print(\"Saving figure\", fig_id)\n",
        "    if tight_layout:\n",
        "        plt.tight_layout()\n",
        "    plt.savefig(path, format='png', dpi=300)"
      ],
      "metadata": {
        "id": "YU0zgHb6IN4H"
      },
      "execution_count": 48,
      "outputs": []
    },
    {
      "cell_type": "code",
      "source": [
        "# # Linear regression using the Normal Equation\n",
        "\n",
        "\n",
        "import numpy as np\n",
        "\n",
        "X = 2 * np.random.rand(100, 1)\n",
        "y = 4 + 3 * X + np.random.randn(100, 1)"
      ],
      "metadata": {
        "id": "xI4vK7nLIXuD"
      },
      "execution_count": 49,
      "outputs": []
    },
    {
      "cell_type": "code",
      "source": [
        "# Test data graph:\n",
        "plt.plot(X, y, \"b.\")\n",
        "plt.xlabel(\"$x_1$\", fontsize=18)\n",
        "plt.ylabel(\"$y$\", rotation=0, fontsize=18)\n",
        "plt.axis([0, 2, 0, 15])\n",
        "plt.savefig(\"generated_data_plot\")\n",
        "plt.title(\"some test data for linear regression\")\n",
        "plt.show()"
      ],
      "metadata": {
        "colab": {
          "base_uri": "https://localhost:8080/",
          "height": 306
        },
        "id": "qU7pBu9wI0Af",
        "outputId": "ec557302-e137-419a-a6e8-301fcfa993b1"
      },
      "execution_count": 50,
      "outputs": [
        {
          "output_type": "display_data",
          "data": {
            "text/plain": [
              "<Figure size 432x288 with 1 Axes>"
            ],
            "image/png": "[encoded data removed]"
          },
          "metadata": {
            "needs_background": "light"
          }
        }
      ]
    },
    {
      "cell_type": "code",
      "source": [
        "#array of x printed\n",
        "X"
      ],
      "metadata": {
        "colab": {
          "base_uri": "https://localhost:8080/"
        },
        "id": "4OHv2WZ1JYIy",
        "outputId": "a75661bd-547f-4598-9f6d-705d5d36ba27"
      },
      "execution_count": 51,
      "outputs": [
        {
          "output_type": "execute_result",
          "data": {
            "text/plain": [
              "array([[0.74908024],\n",
              "       [1.90142861],\n",
              "       [1.46398788],\n",
              "       [1.19731697],\n",
              "       [0.31203728],\n",
              "       [0.31198904],\n",
              "       [0.11616722],\n",
              "       [1.73235229],\n",
              "       [1.20223002],\n",
              "       [1.41614516],\n",
              "       [0.04116899],\n",
              "       [1.9398197 ],\n",
              "       [1.66488528],\n",
              "       [0.42467822],\n",
              "       [0.36364993],\n",
              "       [0.36680902],\n",
              "       [0.60848449],\n",
              "       [1.04951286],\n",
              "       [0.86389004],\n",
              "       [0.58245828],\n",
              "       [1.22370579],\n",
              "       [0.27898772],\n",
              "       [0.5842893 ],\n",
              "       [0.73272369],\n",
              "       [0.91213997],\n",
              "       [1.57035192],\n",
              "       [0.39934756],\n",
              "       [1.02846888],\n",
              "       [1.18482914],\n",
              "       [0.09290083],\n",
              "       [1.2150897 ],\n",
              "       [0.34104825],\n",
              "       [0.13010319],\n",
              "       [1.89777107],\n",
              "       [1.93126407],\n",
              "       [1.6167947 ],\n",
              "       [0.60922754],\n",
              "       [0.19534423],\n",
              "       [1.36846605],\n",
              "       [0.88030499],\n",
              "       [0.24407647],\n",
              "       [0.99035382],\n",
              "       [0.06877704],\n",
              "       [1.8186408 ],\n",
              "       [0.51755996],\n",
              "       [1.32504457],\n",
              "       [0.62342215],\n",
              "       [1.04013604],\n",
              "       [1.09342056],\n",
              "       [0.36970891],\n",
              "       [1.93916926],\n",
              "       [1.55026565],\n",
              "       [1.87899788],\n",
              "       [1.7896547 ],\n",
              "       [1.19579996],\n",
              "       [1.84374847],\n",
              "       [0.176985  ],\n",
              "       [0.39196572],\n",
              "       [0.09045458],\n",
              "       [0.65066066],\n",
              "       [0.77735458],\n",
              "       [0.54269806],\n",
              "       [1.65747502],\n",
              "       [0.71350665],\n",
              "       [0.56186902],\n",
              "       [1.08539217],\n",
              "       [0.28184845],\n",
              "       [1.60439396],\n",
              "       [0.14910129],\n",
              "       [1.97377387],\n",
              "       [1.54448954],\n",
              "       [0.39743136],\n",
              "       [0.01104423],\n",
              "       [1.63092286],\n",
              "       [1.41371469],\n",
              "       [1.45801434],\n",
              "       [1.54254069],\n",
              "       [0.1480893 ],\n",
              "       [0.71693146],\n",
              "       [0.23173812],\n",
              "       [1.72620685],\n",
              "       [1.24659625],\n",
              "       [0.66179605],\n",
              "       [0.1271167 ],\n",
              "       [0.62196464],\n",
              "       [0.65036664],\n",
              "       [1.45921236],\n",
              "       [1.27511494],\n",
              "       [1.77442549],\n",
              "       [0.94442985],\n",
              "       [0.23918849],\n",
              "       [1.42648957],\n",
              "       [1.5215701 ],\n",
              "       [1.1225544 ],\n",
              "       [1.54193436],\n",
              "       [0.98759119],\n",
              "       [1.04546566],\n",
              "       [0.85508204],\n",
              "       [0.05083825],\n",
              "       [0.21578285]])"
            ]
          },
          "metadata": {},
          "execution_count": 51
        }
      ]
    },
    {
      "cell_type": "code",
      "source": [
        "#the X_b values printed\n",
        "X_b = np.c_[np.ones((100, 1)), X]  # add x0 = 1 to each instance\n",
        "#Here the model equation is y = w0*x0 + w1*x1 = w0 + w1*x1\n",
        "#weught is y = W.X\n",
        "\n",
        "print(X_b)"
      ],
      "metadata": {
        "colab": {
          "base_uri": "https://localhost:8080/"
        },
        "id": "G-ZceUxJJiRW",
        "outputId": "5ee30e70-10f8-43cd-8d35-4471e8cb4625"
      },
      "execution_count": 52,
      "outputs": [
        {
          "output_type": "stream",
          "name": "stdout",
          "text": [
            "[[1.         0.74908024]\n",
            " [1.         1.90142861]\n",
            " [1.         1.46398788]\n",
            " [1.         1.19731697]\n",
            " [1.         0.31203728]\n",
            " [1.         0.31198904]\n",
            " [1.         0.11616722]\n",
            " [1.         1.73235229]\n",
            " [1.         1.20223002]\n",
            " [1.         1.41614516]\n",
            " [1.         0.04116899]\n",
            " [1.         1.9398197 ]\n",
            " [1.         1.66488528]\n",
            " [1.         0.42467822]\n",
            " [1.         0.36364993]\n",
            " [1.         0.36680902]\n",
            " [1.         0.60848449]\n",
            " [1.         1.04951286]\n",
            " [1.         0.86389004]\n",
            " [1.         0.58245828]\n",
            " [1.         1.22370579]\n",
            " [1.         0.27898772]\n",
            " [1.         0.5842893 ]\n",
            " [1.         0.73272369]\n",
            " [1.         0.91213997]\n",
            " [1.         1.57035192]\n",
            " [1.         0.39934756]\n",
            " [1.         1.02846888]\n",
            " [1.         1.18482914]\n",
            " [1.         0.09290083]\n",
            " [1.         1.2150897 ]\n",
            " [1.         0.34104825]\n",
            " [1.         0.13010319]\n",
            " [1.         1.89777107]\n",
            " [1.         1.93126407]\n",
            " [1.         1.6167947 ]\n",
            " [1.         0.60922754]\n",
            " [1.         0.19534423]\n",
            " [1.         1.36846605]\n",
            " [1.         0.88030499]\n",
            " [1.         0.24407647]\n",
            " [1.         0.99035382]\n",
            " [1.         0.06877704]\n",
            " [1.         1.8186408 ]\n",
            " [1.         0.51755996]\n",
            " [1.         1.32504457]\n",
            " [1.         0.62342215]\n",
            " [1.         1.04013604]\n",
            " [1.         1.09342056]\n",
            " [1.         0.36970891]\n",
            " [1.         1.93916926]\n",
            " [1.         1.55026565]\n",
            " [1.         1.87899788]\n",
            " [1.         1.7896547 ]\n",
            " [1.         1.19579996]\n",
            " [1.         1.84374847]\n",
            " [1.         0.176985  ]\n",
            " [1.         0.39196572]\n",
            " [1.         0.09045458]\n",
            " [1.         0.65066066]\n",
            " [1.         0.77735458]\n",
            " [1.         0.54269806]\n",
            " [1.         1.65747502]\n",
            " [1.         0.71350665]\n",
            " [1.         0.56186902]\n",
            " [1.         1.08539217]\n",
            " [1.         0.28184845]\n",
            " [1.         1.60439396]\n",
            " [1.         0.14910129]\n",
            " [1.         1.97377387]\n",
            " [1.         1.54448954]\n",
            " [1.         0.39743136]\n",
            " [1.         0.01104423]\n",
            " [1.         1.63092286]\n",
            " [1.         1.41371469]\n",
            " [1.         1.45801434]\n",
            " [1.         1.54254069]\n",
            " [1.         0.1480893 ]\n",
            " [1.         0.71693146]\n",
            " [1.         0.23173812]\n",
            " [1.         1.72620685]\n",
            " [1.         1.24659625]\n",
            " [1.         0.66179605]\n",
            " [1.         0.1271167 ]\n",
            " [1.         0.62196464]\n",
            " [1.         0.65036664]\n",
            " [1.         1.45921236]\n",
            " [1.         1.27511494]\n",
            " [1.         1.77442549]\n",
            " [1.         0.94442985]\n",
            " [1.         0.23918849]\n",
            " [1.         1.42648957]\n",
            " [1.         1.5215701 ]\n",
            " [1.         1.1225544 ]\n",
            " [1.         1.54193436]\n",
            " [1.         0.98759119]\n",
            " [1.         1.04546566]\n",
            " [1.         0.85508204]\n",
            " [1.         0.05083825]\n",
            " [1.         0.21578285]]\n"
          ]
        }
      ]
    },
    {
      "cell_type": "code",
      "source": [
        "#for taking the theta value that suits best in the equations throughout the program.\n",
        "theta_best = np.linalg.inv(X_b.T.dot(X_b)).dot(X_b.T).dot(y)\n",
        "#by using the normal equation : w = (XT.X)-1.XT.y\n",
        "#linalg.inv : Compute the (multiplicative) inverse of a matrix.\n",
        "#API reference https://docs.scipy.org/doc/numpy-1.13.0/reference/routines.linalg.html\n",
        "\n",
        "theta_best"
      ],
      "metadata": {
        "colab": {
          "base_uri": "https://localhost:8080/"
        },
        "id": "y3q00kpCJ8-A",
        "outputId": "919919ca-73e4-419a-dcb3-29bb62107879"
      },
      "execution_count": 53,
      "outputs": [
        {
          "output_type": "execute_result",
          "data": {
            "text/plain": [
              "array([[4.21509616],\n",
              "       [2.77011339]])"
            ]
          },
          "metadata": {},
          "execution_count": 53
        }
      ]
    },
    {
      "cell_type": "code",
      "source": [
        "#now test with new x_new values\n",
        "X_new = np.array([[0], [2]])\n",
        "print(X_new)\n",
        "X_new_b = np.c_[np.ones((2, 1)), X_new]  # add x0 = 1 to each instance\n",
        "print(X_new_b)\n",
        "y_predict = X_new_b.dot(theta_best)\n",
        "y_predict"
      ],
      "metadata": {
        "colab": {
          "base_uri": "https://localhost:8080/"
        },
        "id": "B-5xajqTKOGu",
        "outputId": "20c1ba89-8073-46a9-f0e0-41a1b1f8a026"
      },
      "execution_count": 54,
      "outputs": [
        {
          "output_type": "stream",
          "name": "stdout",
          "text": [
            "[[0]\n",
            " [2]]\n",
            "[[1. 0.]\n",
            " [1. 2.]]\n"
          ]
        },
        {
          "output_type": "execute_result",
          "data": {
            "text/plain": [
              "array([[4.21509616],\n",
              "       [9.75532293]])"
            ]
          },
          "metadata": {},
          "execution_count": 54
        }
      ]
    },
    {
      "cell_type": "code",
      "source": [
        "#graph of linear regression using Normal Equation.\n",
        "plt.plot(X_new, y_predict, \"r-\")\n",
        "plt.plot(X, y, \"b.\")\n",
        "plt.axis([0, 2, 0, 15])\n",
        "plt.title(\"linear regression using Normal Equation\")\n",
        "plt.show()"
      ],
      "metadata": {
        "colab": {
          "base_uri": "https://localhost:8080/",
          "height": 284
        },
        "id": "SwRoy6iEKRZj",
        "outputId": "88b4ff9b-f28f-4a7a-b922-5407f646b982"
      },
      "execution_count": 58,
      "outputs": [
        {
          "output_type": "display_data",
          "data": {
            "text/plain": [
              "<Figure size 432x288 with 1 Axes>"
            ],
            "image/png": "[encoded data removed]"
          },
          "metadata": {
            "needs_background": "light"
          }
        }
      ]
    },
    {
      "cell_type": "code",
      "source": [
        "#linear regression model for the new values.\n",
        "from sklearn.linear_model import LinearRegression\n",
        "lin_reg = LinearRegression()\n",
        "lin_reg.fit(X, y)\n",
        "print(lin_reg.intercept_)\n",
        "print(lin_reg.coef_)\n",
        "\n",
        "lin_reg.predict(X_new)"
      ],
      "metadata": {
        "colab": {
          "base_uri": "https://localhost:8080/"
        },
        "id": "gBKOMrWCKevE",
        "outputId": "8bcef37b-e246-4c1c-ebb7-699ac7f6e999"
      },
      "execution_count": 59,
      "outputs": [
        {
          "output_type": "stream",
          "name": "stdout",
          "text": [
            "[4.21509616]\n",
            "[[2.77011339]]\n"
          ]
        },
        {
          "output_type": "execute_result",
          "data": {
            "text/plain": [
              "array([[4.21509616],\n",
              "       [9.75532293]])"
            ]
          },
          "metadata": {},
          "execution_count": 59
        }
      ]
    },
    {
      "cell_type": "markdown",
      "source": [
        "Linear Regression descent model:"
      ],
      "metadata": {
        "id": "6tWFeXSvKs2G"
      }
    },
    {
      "cell_type": "code",
      "source": [
        "#  Linear regression using batch gradient descent\n",
        "\n",
        "\n",
        "eta = 0.1   #learning rate\n",
        "n_iterations = 1000\n",
        "m = 100     #no of samples\n",
        "theta = np.random.randn(2,1)\n",
        "\n",
        "for iteration in range(n_iterations):\n",
        "    gradients = 2/m * X_b.T.dot(X_b.dot(theta) - y)      \n",
        "    #dJ/dw = (sum of X(y'-y) for m samples)/m. The digit 2 comes from taking differential of square\n",
        "    theta = theta - eta * gradients\n",
        "    #w = w - learning_rate*dJ/dw"
      ],
      "metadata": {
        "id": "HsLdW0ByKoXe"
      },
      "execution_count": 60,
      "outputs": []
    },
    {
      "cell_type": "code",
      "source": [
        "theta\n",
        "print(\"\")\n",
        "print(\"theta :-\")\n",
        "print(theta)\n",
        "print(\"\")\n",
        "\n",
        "X_new_b.dot(theta)"
      ],
      "metadata": {
        "colab": {
          "base_uri": "https://localhost:8080/"
        },
        "id": "SJoFybLeK8tx",
        "outputId": "c1093035-c206-4ebb-d723-f92accbefafe"
      },
      "execution_count": 61,
      "outputs": [
        {
          "output_type": "stream",
          "name": "stdout",
          "text": [
            "\n",
            "theta :-\n",
            "[[4.21509616]\n",
            " [2.77011339]]\n",
            "\n"
          ]
        },
        {
          "output_type": "execute_result",
          "data": {
            "text/plain": [
              "array([[4.21509616],\n",
              "       [9.75532293]])"
            ]
          },
          "metadata": {},
          "execution_count": 61
        }
      ]
    },
    {
      "cell_type": "code",
      "source": [
        "theta_path_bgd = []\n",
        "\n",
        "def plot_gradient_descent(theta, eta, theta_path=None):\n",
        "    m = len(X_b)\n",
        "    plt.plot(X, y, \"b.\")\n",
        "    n_iterations = 1000\n",
        "    for iteration in range(n_iterations):\n",
        "        if iteration < 10:\n",
        "            y_predict = X_new_b.dot(theta)\n",
        "            style = \"b-\" if iteration > 0 else \"r--\"\n",
        "            plt.plot(X_new, y_predict, style)\n",
        "        gradients = 2/m * X_b.T.dot(X_b.dot(theta) - y)\n",
        "        theta = theta - eta * gradients\n",
        "        if theta_path is not None:\n",
        "            theta_path.append(theta)\n",
        "    plt.xlabel(\"$x_1$\", fontsize=18)\n",
        "    plt.axis([0, 2, 0, 15])\n",
        "    plt.title(\"gradient descent \"+r\"$\\eta = {}$\".format(eta), fontsize=16)\n"
      ],
      "metadata": {
        "id": "zuRYTZD5K-v0"
      },
      "execution_count": 62,
      "outputs": []
    },
    {
      "cell_type": "code",
      "source": [
        "np.random.seed(42)\n",
        "theta = np.random.randn(2,1)  # random initialization\n",
        "\n",
        "plt.figure(figsize=(10,4))\n",
        "plt.subplot(131); plot_gradient_descent(theta, eta=0.02)\n",
        "plt.ylabel(\"$y$\", rotation=0, fontsize=18)\n",
        "plt.subplot(132); plot_gradient_descent(theta, eta=0.1, theta_path=theta_path_bgd)\n",
        "plt.subplot(133); plot_gradient_descent(theta, eta=0.5)\n",
        "\n",
        "plt.savefig(\"gradient_descent_plot\")\n",
        "plt.show()"
      ],
      "metadata": {
        "colab": {
          "base_uri": "https://localhost:8080/",
          "height": 310
        },
        "id": "PqxFGc8aLDT5",
        "outputId": "cca024d4-d45f-458a-8bac-3f5dfb45e49c"
      },
      "execution_count": 63,
      "outputs": [
        {
          "output_type": "display_data",
          "data": {
            "text/plain": [
              "<Figure size 720x288 with 3 Axes>"
            ],
            "image/png": "[encoded data removed]"
          },
          "metadata": {
            "needs_background": "light"
          }
        }
      ]
    },
    {
      "cell_type": "markdown",
      "source": [
        " Stochastic Gradient Descent model:"
      ],
      "metadata": {
        "id": "dgNyvRoQL44K"
      }
    },
    {
      "cell_type": "code",
      "source": [
        "#  Stochastic Gradient Descent\n",
        "\n",
        "\n",
        "theta_path_sgd = []\n",
        "m = len(X_b)\n",
        "np.random.seed(42)"
      ],
      "metadata": {
        "id": "T-ZUB1ZYLFqj"
      },
      "execution_count": 64,
      "outputs": []
    },
    {
      "cell_type": "code",
      "source": [
        "n_epochs = 50\n",
        "t0, t1 = 5, 50  # learning schedule hyperparameters\n",
        "\n",
        "def learning_schedule(t):\n",
        "    return t0 / (t + t1)\n",
        "\n",
        "theta = np.random.randn(2,1)  # random initialization\n",
        "\n",
        "for epoch in range(n_epochs):\n",
        "    for i in range(m):\n",
        "        if epoch == 0 and i < 20:                    # not shown\n",
        "            y_predict = X_new_b.dot(theta)           # not shown\n",
        "            style = \"b-\" if i > 0 else \"r--\"         # not shown\n",
        "            plt.plot(X_new, y_predict, style)        # not shown\n",
        "        random_index = np.random.randint(m)\n",
        "        xi = X_b[random_index:random_index+1]\n",
        "        yi = y[random_index:random_index+1]\n",
        "        gradients = 2 * xi.T.dot(xi.dot(theta) - yi)\n",
        "        eta = learning_schedule(epoch * m + i)\n",
        "        theta = theta - eta * gradients\n",
        "        theta_path_sgd.append(theta)                 # not shown\n",
        "\n",
        "plt.plot(X, y, \"b.\")                                 # not shown\n",
        "plt.xlabel(\"$x_1$\", fontsize=18)                     # not shown\n",
        "plt.ylabel(\"$y$\", rotation=0, fontsize=18)           # not shown\n",
        "plt.axis([0, 2, 0, 15])                              # not shown\n",
        "plt.title(\"regression with stochastic gradient descent\")\n",
        "plt.savefig(\"sgd_plot\")                                 # not shown\n",
        "plt.show()                                           # not shown"
      ],
      "metadata": {
        "colab": {
          "base_uri": "https://localhost:8080/",
          "height": 306
        },
        "id": "EFURaip0LIrB",
        "outputId": "ff26a787-e162-4090-9acf-b952b551f6a2"
      },
      "execution_count": 65,
      "outputs": [
        {
          "output_type": "display_data",
          "data": {
            "text/plain": [
              "<Figure size 432x288 with 1 Axes>"
            ],
            "image/png": "[encoded data removed]"
          },
          "metadata": {
            "needs_background": "light"
          }
        }
      ]
    },
    {
      "cell_type": "code",
      "source": [
        "theta"
      ],
      "metadata": {
        "colab": {
          "base_uri": "https://localhost:8080/"
        },
        "id": "ePK7M8eSLLhG",
        "outputId": "a9536f15-966e-4d38-862e-5259b4bf18ff"
      },
      "execution_count": 66,
      "outputs": [
        {
          "output_type": "execute_result",
          "data": {
            "text/plain": [
              "array([[4.21076011],\n",
              "       [2.74856079]])"
            ]
          },
          "metadata": {},
          "execution_count": 66
        }
      ]
    },
    {
      "cell_type": "markdown",
      "source": [
        "mini-batch gradient descent model:"
      ],
      "metadata": {
        "id": "A4ZH04-sLPiY"
      }
    },
    {
      "cell_type": "code",
      "source": [
        "#  Mini-batch gradient descent\n",
        "\n",
        "\n",
        "theta_path_mgd = []\n",
        "\n",
        "n_iterations = 50\n",
        "minibatch_size = 20\n",
        "\n",
        "np.random.seed(42)\n",
        "theta = np.random.randn(2,1)  # random initialization\n",
        "\n",
        "t0, t1 = 10, 1000\n",
        "def learning_schedule(t):\n",
        "    return t0 / (t + t1)\n",
        "\n",
        "t = 0\n",
        "for epoch in range(n_iterations):\n",
        "    shuffled_indices = np.random.permutation(m)\n",
        "    X_b_shuffled = X_b[shuffled_indices]\n",
        "    y_shuffled = y[shuffled_indices]\n",
        "    for i in range(0, m, minibatch_size):\n",
        "        t += 1\n",
        "        xi = X_b_shuffled[i:i+minibatch_size]\n",
        "        yi = y_shuffled[i:i+minibatch_size]\n",
        "        gradients = 2 * xi.T.dot(xi.dot(theta) - yi)\n",
        "        eta = learning_schedule(t)\n",
        "        theta = theta - eta * gradients\n",
        "        theta_path_mgd.append(theta)"
      ],
      "metadata": {
        "id": "jn4tx47eLUyP"
      },
      "execution_count": 67,
      "outputs": []
    },
    {
      "cell_type": "code",
      "source": [
        "theta"
      ],
      "metadata": {
        "colab": {
          "base_uri": "https://localhost:8080/"
        },
        "id": "aN9ba0w_LYkz",
        "outputId": "116f0972-d4b6-4f66-d80e-6fdcb2329bc7"
      },
      "execution_count": 68,
      "outputs": [
        {
          "output_type": "execute_result",
          "data": {
            "text/plain": [
              "array([[4.25214635],\n",
              "       [2.7896408 ]])"
            ]
          },
          "metadata": {},
          "execution_count": 68
        }
      ]
    },
    {
      "cell_type": "code",
      "source": [
        "theta_path_bgd = np.array(theta_path_bgd)\n",
        "theta_path_sgd = np.array(theta_path_sgd)\n",
        "theta_path_mgd = np.array(theta_path_mgd)"
      ],
      "metadata": {
        "id": "F9aOfV46LbJb"
      },
      "execution_count": 69,
      "outputs": []
    },
    {
      "cell_type": "code",
      "source": [
        "#mini-batch and the stochastic graph.\n",
        "plt.figure(figsize=(7,4))\n",
        "plt.plot(theta_path_sgd[:, 0], theta_path_sgd[:, 1], \"r-s\", linewidth=1, label=\"Stochastic\")\n",
        "plt.plot(theta_path_mgd[:, 0], theta_path_mgd[:, 1], \"g-+\", linewidth=2, label=\"Mini-batch\")\n",
        "plt.plot(theta_path_bgd[:, 0], theta_path_bgd[:, 1], \"b-o\", linewidth=3, label=\"Batch\")\n",
        "plt.legend(loc=\"upper left\", fontsize=16)\n",
        "plt.xlabel(r\"$\\theta_0$\", fontsize=20)\n",
        "plt.ylabel(r\"$\\theta_1$   \", fontsize=20, rotation=0)\n",
        "plt.axis([2.5, 4.5, 2.3, 3.9])\n",
        "plt.savefig(\"gradient_descent_paths_plot\")\n",
        "plt.show()"
      ],
      "metadata": {
        "colab": {
          "base_uri": "https://localhost:8080/",
          "height": 295
        },
        "id": "VBJlHfXkLdU4",
        "outputId": "369652e7-8a28-4e6d-b0d0-93dc2da59d7e"
      },
      "execution_count": 70,
      "outputs": [
        {
          "output_type": "display_data",
          "data": {
            "text/plain": [
              "<Figure size 504x288 with 1 Axes>"
            ],
            "image/png": "[encoded data removed]"
          },
          "metadata": {
            "needs_background": "light"
          }
        }
      ]
    },
    {
      "cell_type": "markdown",
      "source": [
        "*CellStrat - Liner and Polynomial Regression.ipynb file (Set 2 code)*"
      ],
      "metadata": {
        "id": "9dDtAuVliIwu"
      }
    },
    {
      "cell_type": "markdown",
      "source": [
        "Q2) What is the ideal gradient descent from among stochastic, mini-batch or batch ?"
      ],
      "metadata": {
        "id": "u63LxQpdii9r"
      }
    },
    {
      "cell_type": "markdown",
      "source": [
        "Answer: \n",
        "Batch gradient descent computes the gradient using the whole dataset whereas Stochastic uses one training example and Mini-Batch uses a batch of 32 or 64 samples. In this video, I'll bring out the differences of all 3 using Python.\n",
        "\n",
        "Batch is great for convex, or relatively smooth error manifolds. In this case, we move somewhat directly towards an optimum solution, either local or global.\n",
        "\n",
        "Stochastic gradient descent (SGD) computes the gradient using a single sample. Here, the term \"stochastic\" comes from the fact that the gradient based on a single training sample is a \"stochastic approximation\" of the \"true\" cost gradient. Due to its stochastic nature, the path towards the global cost minimum is not \"direct\" as in GD, but may go \"zig-zag\" if we are visualizing the cost surface in a 2D space. However, it has been shown that SGD almost surely converges to the global cost minimum if the cost function is convex.\n",
        "\n",
        "Mini-Batch Gradient Descent combines the best of both to converge faster with less computational overhead. \n",
        "\n",
        "the speed order of them is:\n",
        "\n",
        "batch > mini-batch > stochastic gradient decent\n",
        "\n",
        "but the accuracy stochastic has the upperhand \n",
        "\n",
        "overall the mini-batch gradient is best because it is having the good in both the worlds (i.e speed and accuracy.) in it. \n",
        "\n"
      ],
      "metadata": {
        "id": "kDEbaHgQi9X6"
      }
    },
    {
      "cell_type": "markdown",
      "source": [
        "Q3) The program depicts the learning process when the learning rate is 0.02 , 0.1 and 0.5 , provide interpretation of these charts?"
      ],
      "metadata": {
        "id": "Zodca2_os-nl"
      }
    },
    {
      "cell_type": "markdown",
      "source": [
        "Answer: These charts show us that The learning rate is a hyperparameter that controls how much to change the model in response to the estimated error each time the model weights are updated. Choosing the learning rate is challenging as a value too small may result in a long training process that could get stuck, whereas a value too large may result in learning a sub-optimal set of weights too fast or an unstable training process.\n",
        "\n",
        "The learning rate may be the most important hyperparameter when configuring your neural network. Therefore it is vital to know how to investigate the effects of the learning rate on model performance and to build an intuition about the dynamics of the learning rate on model behavior.\n",
        "\n",
        "\n",
        "*   Large learning rates result in unstable training and tiny rates result in a failure to train.\n",
        "*   Momentum can accelerate training and learning rate schedules can help to converge the optimization process.\n",
        "*   Adaptive learning rates can accelerate training and alleviate some of the pressure of choosing a learning rate and learning rate schedule.\n",
        "\n",
        "\n"
      ],
      "metadata": {
        "id": "1gXdyUBitEPb"
      }
    },
    {
      "cell_type": "markdown",
      "source": [
        "Q4) The program depicts the learning process when the learning rate is 0.02 , 0.1 and 0.5 , Try changing the values to 0.001, 0.25 and 0.9 and check the results ?\n",
        "provide interprestation"
      ],
      "metadata": {
        "id": "80KjggVgl6ER"
      }
    },
    {
      "cell_type": "markdown",
      "source": [
        "Answer:"
      ],
      "metadata": {
        "id": "1Y-RxSZGn5pv"
      }
    },
    {
      "cell_type": "code",
      "source": [
        "# To support the file in python 3\n",
        "from __future__ import division, print_function, unicode_literals\n",
        "\n",
        "# Common imports\n",
        "import numpy as np\n",
        "import os\n",
        "\n",
        "# To plot pretty figures\n",
        "#get_ipython().magic('matplotlib inline')\n",
        "import matplotlib\n",
        "import matplotlib.pyplot as plt\n",
        "plt.rcParams['axes.labelsize'] = 14\n",
        "plt.rcParams['xtick.labelsize'] = 12\n",
        "plt.rcParams['ytick.labelsize'] = 12\n",
        "\n",
        "# Where to save the figures\n",
        "PROJECT_ROOT_DIR = \".\"\n",
        "CHAPTER_ID = \"training_linear_models\"\n",
        "\n",
        "def save_fig(fig_id, tight_layout=True):\n",
        "    path = os.path.join(PROJECT_ROOT_DIR, \"images\", CHAPTER_ID, fig_id + \".png\")\n",
        "    print(\"Saving figure\", fig_id)\n",
        "    if tight_layout:\n",
        "        plt.tight_layout()\n",
        "    plt.savefig(path, format='png', dpi=300)\n",
        "\n",
        "import numpy as np\n",
        "\n",
        "X = 2 * np.random.rand(100, 1)\n",
        "y = 4 + 3 * X + np.random.randn(100, 1)    \n",
        "\n",
        "X_b = np.c_[np.ones((100, 1)), X]\n",
        "\n",
        "\n",
        "#for taking the theta value that suits best in the equations throughout the program.\n",
        "theta_best = np.linalg.inv(X_b.T.dot(X_b)).dot(X_b.T).dot(y)\n",
        "\n",
        "X_new = np.array([[0], [2]])\n",
        "print(X_new)\n",
        "X_new_b = np.c_[np.ones((2, 1)), X_new]  # add x0 = 1 to each instance\n",
        "print(X_new_b)\n",
        "y_predict = X_new_b.dot(theta_best)\n",
        "\n",
        "from sklearn.linear_model import LinearRegression\n",
        "lin_reg = LinearRegression()\n",
        "lin_reg.fit(X, y)\n",
        "print(lin_reg.intercept_)\n",
        "print(lin_reg.coef_)\n",
        "\n",
        "lin_reg.predict(X_new)"
      ],
      "metadata": {
        "colab": {
          "base_uri": "https://localhost:8080/"
        },
        "id": "_HXSUjWZn8eE",
        "outputId": "dd568594-8473-439a-d970-be5f35e51c6d"
      },
      "execution_count": 18,
      "outputs": [
        {
          "output_type": "stream",
          "name": "stdout",
          "text": [
            "[[0]\n",
            " [2]]\n",
            "[[1. 0.]\n",
            " [1. 2.]]\n",
            "[4.20831857]\n",
            "[[2.79226572]]\n"
          ]
        },
        {
          "output_type": "execute_result",
          "data": {
            "text/plain": [
              "array([[4.20831857],\n",
              "       [9.79285   ]])"
            ]
          },
          "metadata": {},
          "execution_count": 18
        }
      ]
    },
    {
      "cell_type": "code",
      "source": [
        "eta = 0.25   #learning rate\n",
        "n_iterations = 1000\n",
        "m = 100     #no of samples\n",
        "theta = np.random.randn(2,1)\n",
        "\n",
        "for iteration in range(n_iterations):\n",
        "    gradients = 2/m * X_b.T.dot(X_b.dot(theta) - y)      \n",
        "    #dJ/dw = (sum of X(y'-y) for m samples)/m. The digit 2 comes from taking differential of square\n",
        "    theta = theta - eta * gradients\n",
        "    #w = w - learning_rate*dJ/dw"
      ],
      "metadata": {
        "id": "_z8XpULFq2iM"
      },
      "execution_count": 19,
      "outputs": []
    },
    {
      "cell_type": "code",
      "source": [
        "theta\n",
        "print(\"\")\n",
        "print(\"theta :-\")\n",
        "print(theta)\n",
        "print(\"\")\n",
        "\n",
        "X_new_b.dot(theta)"
      ],
      "metadata": {
        "colab": {
          "base_uri": "https://localhost:8080/"
        },
        "id": "cPf0LrGKq-Q6",
        "outputId": "5d303002-052b-4c6f-8a0b-1416b334e9a6"
      },
      "execution_count": 20,
      "outputs": [
        {
          "output_type": "stream",
          "name": "stdout",
          "text": [
            "\n",
            "theta :-\n",
            "[[4.20831857]\n",
            " [2.79226572]]\n",
            "\n"
          ]
        },
        {
          "output_type": "execute_result",
          "data": {
            "text/plain": [
              "array([[4.20831857],\n",
              "       [9.79285   ]])"
            ]
          },
          "metadata": {},
          "execution_count": 20
        }
      ]
    },
    {
      "cell_type": "code",
      "source": [
        "theta_path_bgd = []\n",
        "\n",
        "def plot_gradient_descent(theta, eta, theta_path=None):\n",
        "    m = len(X_b)\n",
        "    plt.plot(X, y, \"b.\")\n",
        "    n_iterations = 1000\n",
        "    for iteration in range(n_iterations):\n",
        "        if iteration < 10:\n",
        "            y_predict = X_new_b.dot(theta)\n",
        "            style = \"b-\" if iteration > 0 else \"r--\"\n",
        "            plt.plot(X_new, y_predict, style)\n",
        "        gradients = 2/m * X_b.T.dot(X_b.dot(theta) - y)\n",
        "        theta = theta - eta * gradients\n",
        "        if theta_path is not None:\n",
        "            theta_path.append(theta)\n",
        "    plt.xlabel(\"$x_1$\", fontsize=18)\n",
        "    plt.axis([0, 2, 0, 15])\n",
        "    plt.title(\"gradient descent \"+r\"$\\eta = {}$\".format(eta), fontsize=16)\n"
      ],
      "metadata": {
        "id": "L6480zSJrPzK"
      },
      "execution_count": 21,
      "outputs": []
    },
    {
      "cell_type": "code",
      "source": [
        "np.random.seed(42)\n",
        "theta = np.random.randn(2,1)  # random initialization\n",
        "\n",
        "#plotting the graph / distinguishing between the charts.\n",
        "plt.figure(figsize=(10,4))\n",
        "plt.subplot(131); plot_gradient_descent(theta, eta=0.001)\n",
        "plt.ylabel(\"$y$\", rotation=0, fontsize=18)\n",
        "plt.subplot(132); plot_gradient_descent(theta, eta=0.25, theta_path=theta_path_bgd)\n",
        "plt.subplot(133); plot_gradient_descent(theta, eta=0.9)\n",
        "\n",
        "plt.savefig(\"gradient_descent_plot\")\n",
        "plt.show()"
      ],
      "metadata": {
        "colab": {
          "base_uri": "https://localhost:8080/",
          "height": 345
        },
        "id": "Y0YMTMc5rRUS",
        "outputId": "47aa7ba4-7a9a-432d-885b-cba3da577b7f"
      },
      "execution_count": 22,
      "outputs": [
        {
          "output_type": "stream",
          "name": "stderr",
          "text": [
            "/usr/local/lib/python3.7/dist-packages/ipykernel_launcher.py:13: RuntimeWarning: invalid value encountered in subtract\n",
            "  del sys.path[0]\n"
          ]
        },
        {
          "output_type": "display_data",
          "data": {
            "text/plain": [
              "<Figure size 720x288 with 3 Axes>"
            ],
            "image/png": "[encoded data removed]"
          },
          "metadata": {
            "needs_background": "light"
          }
        }
      ]
    },
    {
      "cell_type": "markdown",
      "source": [
        "interpretation: by doing this the charts are now underfitted , right-fitted or completely miss the points which gives us the bad results in the given values of the graph."
      ],
      "metadata": {
        "id": "AUrWRKF0ssMD"
      }
    }
  ]
}